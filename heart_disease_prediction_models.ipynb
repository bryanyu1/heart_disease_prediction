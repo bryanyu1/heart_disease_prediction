{
 "cells": [
  {
   "cell_type": "markdown",
   "id": "incident-extreme",
   "metadata": {},
   "source": [
    "# Heart Disease Prediction"
   ]
  },
  {
   "cell_type": "markdown",
   "id": "horizontal-corner",
   "metadata": {},
   "source": [
    "## Import Basic Libraries for Data Analysis"
   ]
  },
  {
   "cell_type": "code",
   "execution_count": 1,
   "id": "wrapped-choice",
   "metadata": {},
   "outputs": [],
   "source": [
    "import pandas as pd\n",
    "import matplotlib.pyplot as plt\n",
    "import seaborn as sns\n",
    "import numpy as np\n",
    "import re\n",
    "from functools import reduce \n",
    "from sklearn.preprocessing import LabelEncoder, StandardScaler, MinMaxScaler\n",
    "\n",
    "import warnings\n",
    "warnings.filterwarnings('ignore')"
   ]
  },
  {
   "cell_type": "markdown",
   "id": "practical-newark",
   "metadata": {},
   "source": [
    "## Import Data and Building a Data Pipeline"
   ]
  },
  {
   "cell_type": "markdown",
   "id": "lonely-sword",
   "metadata": {},
   "source": [
    "The data was downloaded from Kaggle via the following link: \n",
    "https://www.kaggle.com/fedesoriano/heart-failure-prediction?select=heart.csv"
   ]
  },
  {
   "cell_type": "code",
   "execution_count": 2,
   "id": "innocent-nepal",
   "metadata": {},
   "outputs": [],
   "source": [
    "df = pd.read_csv(\"heart.csv\")"
   ]
  },
  {
   "cell_type": "code",
   "execution_count": 3,
   "id": "jewish-assets",
   "metadata": {},
   "outputs": [
    {
     "data": {
      "text/plain": [
       "(918, 12)"
      ]
     },
     "execution_count": 3,
     "metadata": {},
     "output_type": "execute_result"
    }
   ],
   "source": [
    "df.shape"
   ]
  },
  {
   "cell_type": "code",
   "execution_count": 4,
   "id": "concrete-hartford",
   "metadata": {},
   "outputs": [
    {
     "data": {
      "text/html": [
       "<div>\n",
       "<style scoped>\n",
       "    .dataframe tbody tr th:only-of-type {\n",
       "        vertical-align: middle;\n",
       "    }\n",
       "\n",
       "    .dataframe tbody tr th {\n",
       "        vertical-align: top;\n",
       "    }\n",
       "\n",
       "    .dataframe thead th {\n",
       "        text-align: right;\n",
       "    }\n",
       "</style>\n",
       "<table border=\"1\" class=\"dataframe\">\n",
       "  <thead>\n",
       "    <tr style=\"text-align: right;\">\n",
       "      <th></th>\n",
       "      <th>Age</th>\n",
       "      <th>Sex</th>\n",
       "      <th>ChestPainType</th>\n",
       "      <th>RestingBP</th>\n",
       "      <th>Cholesterol</th>\n",
       "      <th>FastingBS</th>\n",
       "      <th>RestingECG</th>\n",
       "      <th>MaxHR</th>\n",
       "      <th>ExerciseAngina</th>\n",
       "      <th>Oldpeak</th>\n",
       "      <th>ST_Slope</th>\n",
       "      <th>HeartDisease</th>\n",
       "    </tr>\n",
       "  </thead>\n",
       "  <tbody>\n",
       "    <tr>\n",
       "      <th>0</th>\n",
       "      <td>40</td>\n",
       "      <td>M</td>\n",
       "      <td>ATA</td>\n",
       "      <td>140</td>\n",
       "      <td>289</td>\n",
       "      <td>0</td>\n",
       "      <td>Normal</td>\n",
       "      <td>172</td>\n",
       "      <td>N</td>\n",
       "      <td>0.0</td>\n",
       "      <td>Up</td>\n",
       "      <td>0</td>\n",
       "    </tr>\n",
       "    <tr>\n",
       "      <th>1</th>\n",
       "      <td>49</td>\n",
       "      <td>F</td>\n",
       "      <td>NAP</td>\n",
       "      <td>160</td>\n",
       "      <td>180</td>\n",
       "      <td>0</td>\n",
       "      <td>Normal</td>\n",
       "      <td>156</td>\n",
       "      <td>N</td>\n",
       "      <td>1.0</td>\n",
       "      <td>Flat</td>\n",
       "      <td>1</td>\n",
       "    </tr>\n",
       "    <tr>\n",
       "      <th>2</th>\n",
       "      <td>37</td>\n",
       "      <td>M</td>\n",
       "      <td>ATA</td>\n",
       "      <td>130</td>\n",
       "      <td>283</td>\n",
       "      <td>0</td>\n",
       "      <td>ST</td>\n",
       "      <td>98</td>\n",
       "      <td>N</td>\n",
       "      <td>0.0</td>\n",
       "      <td>Up</td>\n",
       "      <td>0</td>\n",
       "    </tr>\n",
       "    <tr>\n",
       "      <th>3</th>\n",
       "      <td>48</td>\n",
       "      <td>F</td>\n",
       "      <td>ASY</td>\n",
       "      <td>138</td>\n",
       "      <td>214</td>\n",
       "      <td>0</td>\n",
       "      <td>Normal</td>\n",
       "      <td>108</td>\n",
       "      <td>Y</td>\n",
       "      <td>1.5</td>\n",
       "      <td>Flat</td>\n",
       "      <td>1</td>\n",
       "    </tr>\n",
       "    <tr>\n",
       "      <th>4</th>\n",
       "      <td>54</td>\n",
       "      <td>M</td>\n",
       "      <td>NAP</td>\n",
       "      <td>150</td>\n",
       "      <td>195</td>\n",
       "      <td>0</td>\n",
       "      <td>Normal</td>\n",
       "      <td>122</td>\n",
       "      <td>N</td>\n",
       "      <td>0.0</td>\n",
       "      <td>Up</td>\n",
       "      <td>0</td>\n",
       "    </tr>\n",
       "  </tbody>\n",
       "</table>\n",
       "</div>"
      ],
      "text/plain": [
       "   Age Sex ChestPainType  RestingBP  Cholesterol  FastingBS RestingECG  MaxHR  \\\n",
       "0   40   M           ATA        140          289          0     Normal    172   \n",
       "1   49   F           NAP        160          180          0     Normal    156   \n",
       "2   37   M           ATA        130          283          0         ST     98   \n",
       "3   48   F           ASY        138          214          0     Normal    108   \n",
       "4   54   M           NAP        150          195          0     Normal    122   \n",
       "\n",
       "  ExerciseAngina  Oldpeak ST_Slope  HeartDisease  \n",
       "0              N      0.0       Up             0  \n",
       "1              N      1.0     Flat             1  \n",
       "2              N      0.0       Up             0  \n",
       "3              Y      1.5     Flat             1  \n",
       "4              N      0.0       Up             0  "
      ]
     },
     "execution_count": 4,
     "metadata": {},
     "output_type": "execute_result"
    }
   ],
   "source": [
    "df.head()"
   ]
  },
  {
   "cell_type": "code",
   "execution_count": 5,
   "id": "great-cleveland",
   "metadata": {},
   "outputs": [
    {
     "data": {
      "text/plain": [
       "False"
      ]
     },
     "execution_count": 5,
     "metadata": {},
     "output_type": "execute_result"
    }
   ],
   "source": [
    "df.isnull().values.any()"
   ]
  },
  {
   "cell_type": "markdown",
   "id": "silent-image",
   "metadata": {},
   "source": [
    "Change all categorical variables to binary/indicator variables "
   ]
  },
  {
   "cell_type": "code",
   "execution_count": 6,
   "id": "convinced-shell",
   "metadata": {},
   "outputs": [
    {
     "data": {
      "text/html": [
       "<div>\n",
       "<style scoped>\n",
       "    .dataframe tbody tr th:only-of-type {\n",
       "        vertical-align: middle;\n",
       "    }\n",
       "\n",
       "    .dataframe tbody tr th {\n",
       "        vertical-align: top;\n",
       "    }\n",
       "\n",
       "    .dataframe thead th {\n",
       "        text-align: right;\n",
       "    }\n",
       "</style>\n",
       "<table border=\"1\" class=\"dataframe\">\n",
       "  <thead>\n",
       "    <tr style=\"text-align: right;\">\n",
       "      <th></th>\n",
       "      <th>Age</th>\n",
       "      <th>Sex</th>\n",
       "      <th>RestingBP</th>\n",
       "      <th>Cholesterol</th>\n",
       "      <th>FastingBS</th>\n",
       "      <th>MaxHR</th>\n",
       "      <th>ExerciseAngina</th>\n",
       "      <th>Oldpeak</th>\n",
       "      <th>HeartDisease</th>\n",
       "      <th>ChestPainType_ASY</th>\n",
       "      <th>ChestPainType_ATA</th>\n",
       "      <th>ChestPainType_NAP</th>\n",
       "      <th>ChestPainType_TA</th>\n",
       "      <th>RestingECG_LVH</th>\n",
       "      <th>RestingECG_Normal</th>\n",
       "      <th>RestingECG_ST</th>\n",
       "      <th>ST_Slope_Down</th>\n",
       "      <th>ST_Slope_Flat</th>\n",
       "      <th>ST_Slope_Up</th>\n",
       "    </tr>\n",
       "  </thead>\n",
       "  <tbody>\n",
       "    <tr>\n",
       "      <th>0</th>\n",
       "      <td>40</td>\n",
       "      <td>1</td>\n",
       "      <td>140</td>\n",
       "      <td>289</td>\n",
       "      <td>0</td>\n",
       "      <td>172</td>\n",
       "      <td>0</td>\n",
       "      <td>0.0</td>\n",
       "      <td>0</td>\n",
       "      <td>0</td>\n",
       "      <td>1</td>\n",
       "      <td>0</td>\n",
       "      <td>0</td>\n",
       "      <td>0</td>\n",
       "      <td>1</td>\n",
       "      <td>0</td>\n",
       "      <td>0</td>\n",
       "      <td>0</td>\n",
       "      <td>1</td>\n",
       "    </tr>\n",
       "    <tr>\n",
       "      <th>1</th>\n",
       "      <td>49</td>\n",
       "      <td>0</td>\n",
       "      <td>160</td>\n",
       "      <td>180</td>\n",
       "      <td>0</td>\n",
       "      <td>156</td>\n",
       "      <td>0</td>\n",
       "      <td>1.0</td>\n",
       "      <td>1</td>\n",
       "      <td>0</td>\n",
       "      <td>0</td>\n",
       "      <td>1</td>\n",
       "      <td>0</td>\n",
       "      <td>0</td>\n",
       "      <td>1</td>\n",
       "      <td>0</td>\n",
       "      <td>0</td>\n",
       "      <td>1</td>\n",
       "      <td>0</td>\n",
       "    </tr>\n",
       "    <tr>\n",
       "      <th>2</th>\n",
       "      <td>37</td>\n",
       "      <td>1</td>\n",
       "      <td>130</td>\n",
       "      <td>283</td>\n",
       "      <td>0</td>\n",
       "      <td>98</td>\n",
       "      <td>0</td>\n",
       "      <td>0.0</td>\n",
       "      <td>0</td>\n",
       "      <td>0</td>\n",
       "      <td>1</td>\n",
       "      <td>0</td>\n",
       "      <td>0</td>\n",
       "      <td>0</td>\n",
       "      <td>0</td>\n",
       "      <td>1</td>\n",
       "      <td>0</td>\n",
       "      <td>0</td>\n",
       "      <td>1</td>\n",
       "    </tr>\n",
       "    <tr>\n",
       "      <th>3</th>\n",
       "      <td>48</td>\n",
       "      <td>0</td>\n",
       "      <td>138</td>\n",
       "      <td>214</td>\n",
       "      <td>0</td>\n",
       "      <td>108</td>\n",
       "      <td>1</td>\n",
       "      <td>1.5</td>\n",
       "      <td>1</td>\n",
       "      <td>1</td>\n",
       "      <td>0</td>\n",
       "      <td>0</td>\n",
       "      <td>0</td>\n",
       "      <td>0</td>\n",
       "      <td>1</td>\n",
       "      <td>0</td>\n",
       "      <td>0</td>\n",
       "      <td>1</td>\n",
       "      <td>0</td>\n",
       "    </tr>\n",
       "    <tr>\n",
       "      <th>4</th>\n",
       "      <td>54</td>\n",
       "      <td>1</td>\n",
       "      <td>150</td>\n",
       "      <td>195</td>\n",
       "      <td>0</td>\n",
       "      <td>122</td>\n",
       "      <td>0</td>\n",
       "      <td>0.0</td>\n",
       "      <td>0</td>\n",
       "      <td>0</td>\n",
       "      <td>0</td>\n",
       "      <td>1</td>\n",
       "      <td>0</td>\n",
       "      <td>0</td>\n",
       "      <td>1</td>\n",
       "      <td>0</td>\n",
       "      <td>0</td>\n",
       "      <td>0</td>\n",
       "      <td>1</td>\n",
       "    </tr>\n",
       "  </tbody>\n",
       "</table>\n",
       "</div>"
      ],
      "text/plain": [
       "   Age  Sex  RestingBP  Cholesterol  FastingBS  MaxHR  ExerciseAngina  \\\n",
       "0   40    1        140          289          0    172               0   \n",
       "1   49    0        160          180          0    156               0   \n",
       "2   37    1        130          283          0     98               0   \n",
       "3   48    0        138          214          0    108               1   \n",
       "4   54    1        150          195          0    122               0   \n",
       "\n",
       "   Oldpeak  HeartDisease  ChestPainType_ASY  ChestPainType_ATA  \\\n",
       "0      0.0             0                  0                  1   \n",
       "1      1.0             1                  0                  0   \n",
       "2      0.0             0                  0                  1   \n",
       "3      1.5             1                  1                  0   \n",
       "4      0.0             0                  0                  0   \n",
       "\n",
       "   ChestPainType_NAP  ChestPainType_TA  RestingECG_LVH  RestingECG_Normal  \\\n",
       "0                  0                 0               0                  1   \n",
       "1                  1                 0               0                  1   \n",
       "2                  0                 0               0                  0   \n",
       "3                  0                 0               0                  1   \n",
       "4                  1                 0               0                  1   \n",
       "\n",
       "   RestingECG_ST  ST_Slope_Down  ST_Slope_Flat  ST_Slope_Up  \n",
       "0              0              0              0            1  \n",
       "1              0              0              1            0  \n",
       "2              1              0              0            1  \n",
       "3              0              0              1            0  \n",
       "4              0              0              0            1  "
      ]
     },
     "execution_count": 6,
     "metadata": {},
     "output_type": "execute_result"
    }
   ],
   "source": [
    "df2 = df\n",
    "df2.columns = df.columns\n",
    "\n",
    "label_encoding = LabelEncoder()\n",
    "df2['Sex'] = label_encoding.fit_transform(df2['Sex'].astype(str))\n",
    "df2['ExerciseAngina'] = label_encoding.fit_transform(df2['ExerciseAngina'].astype(str))\n",
    "df2 = pd.get_dummies(df2, columns=['ChestPainType', 'RestingECG', 'ST_Slope'])\n",
    "\n",
    "df2.head(5)"
   ]
  },
  {
   "cell_type": "markdown",
   "id": "expressed-rover",
   "metadata": {},
   "source": [
    "Check for Correlation and Multicollinearity"
   ]
  },
  {
   "cell_type": "code",
   "execution_count": 7,
   "id": "viral-aspect",
   "metadata": {},
   "outputs": [
    {
     "data": {
      "image/png": "[encoded data removed]",
      "text/plain": [
       "<Figure size 936x936 with 1 Axes>"
      ]
     },
     "metadata": {
      "needs_background": "light"
     },
     "output_type": "display_data"
    }
   ],
   "source": [
    "def plot_corr(df, size=13):\n",
    "    \"\"\"\n",
    "    Function plots a graphical correlation matrix for each pair of columns in the dataframe.\n",
    "\n",
    "    Input:\n",
    "        df: pandas DataFrame\n",
    "        size: vertical and horizontal size of the plot\n",
    "\n",
    "    Displays:\n",
    "        matrix of correlation between columns.  Blue-cyan-yellow-red-darkred => less to more correlated\n",
    "                                                0 ------------------>  1\n",
    "                                                Expect a darkred line running from top left to bottom right\n",
    "    \"\"\"\n",
    "\n",
    "    corr = df.corr()    # data frame correlation function\n",
    "    fig, ax = plt.subplots(figsize=(size, size))\n",
    "    ax.matshow(corr)   # color code the rectangles by correlation value\n",
    "    plt.xticks(range(len(corr.columns)), corr.columns)  # draw x tick marks\n",
    "    plt.yticks(range(len(corr.columns)), corr.columns)  # draw y tick marks\n",
    "    \n",
    "plot_corr(df2)"
   ]
  },
  {
   "cell_type": "code",
   "execution_count": 8,
   "id": "binary-space",
   "metadata": {},
   "outputs": [
    {
     "data": {
      "text/plain": [
       "<AxesSubplot:>"
      ]
     },
     "execution_count": 8,
     "metadata": {},
     "output_type": "execute_result"
    },
    {
     "data": {
      "image/png": "[encoded data removed]",
      "text/plain": [
       "<Figure size 432x288 with 2 Axes>"
      ]
     },
     "metadata": {
      "needs_background": "light"
     },
     "output_type": "display_data"
    }
   ],
   "source": [
    "sns.heatmap(df2.corr(), cmap=sns.diverging_palette(220, 20, as_cmap=True), vmin=-1, vmax=1, linewidths=.5)"
   ]
  },
  {
   "cell_type": "code",
   "execution_count": 9,
   "id": "innovative-warrant",
   "metadata": {
    "scrolled": false
   },
   "outputs": [
    {
     "data": {
      "text/html": [
       "<div>\n",
       "<style scoped>\n",
       "    .dataframe tbody tr th:only-of-type {\n",
       "        vertical-align: middle;\n",
       "    }\n",
       "\n",
       "    .dataframe tbody tr th {\n",
       "        vertical-align: top;\n",
       "    }\n",
       "\n",
       "    .dataframe thead th {\n",
       "        text-align: right;\n",
       "    }\n",
       "</style>\n",
       "<table border=\"1\" class=\"dataframe\">\n",
       "  <thead>\n",
       "    <tr style=\"text-align: right;\">\n",
       "      <th></th>\n",
       "      <th>Age</th>\n",
       "      <th>Sex</th>\n",
       "      <th>RestingBP</th>\n",
       "      <th>Cholesterol</th>\n",
       "      <th>FastingBS</th>\n",
       "      <th>MaxHR</th>\n",
       "      <th>ExerciseAngina</th>\n",
       "      <th>Oldpeak</th>\n",
       "      <th>HeartDisease</th>\n",
       "      <th>ChestPainType_ASY</th>\n",
       "      <th>ChestPainType_ATA</th>\n",
       "      <th>ChestPainType_NAP</th>\n",
       "      <th>ChestPainType_TA</th>\n",
       "      <th>RestingECG_LVH</th>\n",
       "      <th>RestingECG_Normal</th>\n",
       "      <th>RestingECG_ST</th>\n",
       "      <th>ST_Slope_Down</th>\n",
       "      <th>ST_Slope_Flat</th>\n",
       "      <th>ST_Slope_Up</th>\n",
       "    </tr>\n",
       "  </thead>\n",
       "  <tbody>\n",
       "    <tr>\n",
       "      <th>Age</th>\n",
       "      <td>1.000000</td>\n",
       "      <td>0.055750</td>\n",
       "      <td>0.254399</td>\n",
       "      <td>-0.095282</td>\n",
       "      <td>0.198039</td>\n",
       "      <td>-0.382045</td>\n",
       "      <td>0.215793</td>\n",
       "      <td>0.258612</td>\n",
       "      <td>0.282039</td>\n",
       "      <td>0.166607</td>\n",
       "      <td>-0.218165</td>\n",
       "      <td>-0.011335</td>\n",
       "      <td>0.032042</td>\n",
       "      <td>0.145727</td>\n",
       "      <td>-0.230566</td>\n",
       "      <td>0.136798</td>\n",
       "      <td>0.138397</td>\n",
       "      <td>0.185568</td>\n",
       "      <td>-0.258067</td>\n",
       "    </tr>\n",
       "    <tr>\n",
       "      <th>Sex</th>\n",
       "      <td>0.055750</td>\n",
       "      <td>1.000000</td>\n",
       "      <td>0.005133</td>\n",
       "      <td>-0.200092</td>\n",
       "      <td>0.120076</td>\n",
       "      <td>-0.189186</td>\n",
       "      <td>0.190664</td>\n",
       "      <td>0.105734</td>\n",
       "      <td>0.305445</td>\n",
       "      <td>0.183876</td>\n",
       "      <td>-0.161522</td>\n",
       "      <td>-0.066486</td>\n",
       "      <td>-0.004031</td>\n",
       "      <td>-0.049518</td>\n",
       "      <td>-0.010634</td>\n",
       "      <td>0.063715</td>\n",
       "      <td>0.066036</td>\n",
       "      <td>0.116077</td>\n",
       "      <td>-0.150942</td>\n",
       "    </tr>\n",
       "    <tr>\n",
       "      <th>RestingBP</th>\n",
       "      <td>0.254399</td>\n",
       "      <td>0.005133</td>\n",
       "      <td>1.000000</td>\n",
       "      <td>0.100893</td>\n",
       "      <td>0.070193</td>\n",
       "      <td>-0.112135</td>\n",
       "      <td>0.155101</td>\n",
       "      <td>0.164803</td>\n",
       "      <td>0.107589</td>\n",
       "      <td>0.048824</td>\n",
       "      <td>-0.046153</td>\n",
       "      <td>-0.041348</td>\n",
       "      <td>0.049855</td>\n",
       "      <td>0.053166</td>\n",
       "      <td>-0.116851</td>\n",
       "      <td>0.090447</td>\n",
       "      <td>-0.007912</td>\n",
       "      <td>0.099207</td>\n",
       "      <td>-0.096146</td>\n",
       "    </tr>\n",
       "    <tr>\n",
       "      <th>Cholesterol</th>\n",
       "      <td>-0.095282</td>\n",
       "      <td>-0.200092</td>\n",
       "      <td>0.100893</td>\n",
       "      <td>1.000000</td>\n",
       "      <td>-0.260974</td>\n",
       "      <td>0.235792</td>\n",
       "      <td>-0.034166</td>\n",
       "      <td>0.050148</td>\n",
       "      <td>-0.232741</td>\n",
       "      <td>-0.120531</td>\n",
       "      <td>0.150954</td>\n",
       "      <td>-0.006634</td>\n",
       "      <td>0.017365</td>\n",
       "      <td>0.177077</td>\n",
       "      <td>-0.038470</td>\n",
       "      <td>-0.133106</td>\n",
       "      <td>-0.083371</td>\n",
       "      <td>-0.050953</td>\n",
       "      <td>0.094027</td>\n",
       "    </tr>\n",
       "    <tr>\n",
       "      <th>FastingBS</th>\n",
       "      <td>0.198039</td>\n",
       "      <td>0.120076</td>\n",
       "      <td>0.070193</td>\n",
       "      <td>-0.260974</td>\n",
       "      <td>1.000000</td>\n",
       "      <td>-0.131438</td>\n",
       "      <td>0.060451</td>\n",
       "      <td>0.052698</td>\n",
       "      <td>0.267291</td>\n",
       "      <td>0.131176</td>\n",
       "      <td>-0.140514</td>\n",
       "      <td>-0.039249</td>\n",
       "      <td>0.026885</td>\n",
       "      <td>-0.011656</td>\n",
       "      <td>-0.093028</td>\n",
       "      <td>0.127110</td>\n",
       "      <td>0.105102</td>\n",
       "      <td>0.107006</td>\n",
       "      <td>-0.161730</td>\n",
       "    </tr>\n",
       "    <tr>\n",
       "      <th>MaxHR</th>\n",
       "      <td>-0.382045</td>\n",
       "      <td>-0.189186</td>\n",
       "      <td>-0.112135</td>\n",
       "      <td>0.235792</td>\n",
       "      <td>-0.131438</td>\n",
       "      <td>1.000000</td>\n",
       "      <td>-0.370425</td>\n",
       "      <td>-0.160691</td>\n",
       "      <td>-0.400421</td>\n",
       "      <td>-0.354963</td>\n",
       "      <td>0.253735</td>\n",
       "      <td>0.134580</td>\n",
       "      <td>0.100025</td>\n",
       "      <td>0.125793</td>\n",
       "      <td>0.023801</td>\n",
       "      <td>-0.157879</td>\n",
       "      <td>-0.073316</td>\n",
       "      <td>-0.342581</td>\n",
       "      <td>0.383397</td>\n",
       "    </tr>\n",
       "    <tr>\n",
       "      <th>ExerciseAngina</th>\n",
       "      <td>0.215793</td>\n",
       "      <td>0.190664</td>\n",
       "      <td>0.155101</td>\n",
       "      <td>-0.034166</td>\n",
       "      <td>0.060451</td>\n",
       "      <td>-0.370425</td>\n",
       "      <td>1.000000</td>\n",
       "      <td>0.408752</td>\n",
       "      <td>0.494282</td>\n",
       "      <td>0.430034</td>\n",
       "      <td>-0.300365</td>\n",
       "      <td>-0.166030</td>\n",
       "      <td>-0.128105</td>\n",
       "      <td>-0.016382</td>\n",
       "      <td>-0.072924</td>\n",
       "      <td>0.107036</td>\n",
       "      <td>0.136439</td>\n",
       "      <td>0.382237</td>\n",
       "      <td>-0.455676</td>\n",
       "    </tr>\n",
       "    <tr>\n",
       "      <th>Oldpeak</th>\n",
       "      <td>0.258612</td>\n",
       "      <td>0.105734</td>\n",
       "      <td>0.164803</td>\n",
       "      <td>0.050148</td>\n",
       "      <td>0.052698</td>\n",
       "      <td>-0.160691</td>\n",
       "      <td>0.408752</td>\n",
       "      <td>1.000000</td>\n",
       "      <td>0.403951</td>\n",
       "      <td>0.280026</td>\n",
       "      <td>-0.262124</td>\n",
       "      <td>-0.106212</td>\n",
       "      <td>0.032231</td>\n",
       "      <td>0.086794</td>\n",
       "      <td>-0.116719</td>\n",
       "      <td>0.055958</td>\n",
       "      <td>0.322130</td>\n",
       "      <td>0.283295</td>\n",
       "      <td>-0.450577</td>\n",
       "    </tr>\n",
       "    <tr>\n",
       "      <th>HeartDisease</th>\n",
       "      <td>0.282039</td>\n",
       "      <td>0.305445</td>\n",
       "      <td>0.107589</td>\n",
       "      <td>-0.232741</td>\n",
       "      <td>0.267291</td>\n",
       "      <td>-0.400421</td>\n",
       "      <td>0.494282</td>\n",
       "      <td>0.403951</td>\n",
       "      <td>1.000000</td>\n",
       "      <td>0.516716</td>\n",
       "      <td>-0.401924</td>\n",
       "      <td>-0.212964</td>\n",
       "      <td>-0.054790</td>\n",
       "      <td>0.010670</td>\n",
       "      <td>-0.091580</td>\n",
       "      <td>0.102527</td>\n",
       "      <td>0.122527</td>\n",
       "      <td>0.554134</td>\n",
       "      <td>-0.622164</td>\n",
       "    </tr>\n",
       "    <tr>\n",
       "      <th>ChestPainType_ASY</th>\n",
       "      <td>0.166607</td>\n",
       "      <td>0.183876</td>\n",
       "      <td>0.048824</td>\n",
       "      <td>-0.120531</td>\n",
       "      <td>0.131176</td>\n",
       "      <td>-0.354963</td>\n",
       "      <td>0.430034</td>\n",
       "      <td>0.280026</td>\n",
       "      <td>0.516716</td>\n",
       "      <td>1.000000</td>\n",
       "      <td>-0.522432</td>\n",
       "      <td>-0.577670</td>\n",
       "      <td>-0.249003</td>\n",
       "      <td>0.002289</td>\n",
       "      <td>-0.063606</td>\n",
       "      <td>0.076438</td>\n",
       "      <td>0.103407</td>\n",
       "      <td>0.303645</td>\n",
       "      <td>-0.359443</td>\n",
       "    </tr>\n",
       "    <tr>\n",
       "      <th>ChestPainType_ATA</th>\n",
       "      <td>-0.218165</td>\n",
       "      <td>-0.161522</td>\n",
       "      <td>-0.046153</td>\n",
       "      <td>0.150954</td>\n",
       "      <td>-0.140514</td>\n",
       "      <td>0.253735</td>\n",
       "      <td>-0.300365</td>\n",
       "      <td>-0.262124</td>\n",
       "      <td>-0.401924</td>\n",
       "      <td>-0.522432</td>\n",
       "      <td>1.000000</td>\n",
       "      <td>-0.256767</td>\n",
       "      <td>-0.110679</td>\n",
       "      <td>-0.085791</td>\n",
       "      <td>0.107941</td>\n",
       "      <td>-0.046111</td>\n",
       "      <td>-0.097754</td>\n",
       "      <td>-0.304667</td>\n",
       "      <td>0.357588</td>\n",
       "    </tr>\n",
       "    <tr>\n",
       "      <th>ChestPainType_NAP</th>\n",
       "      <td>-0.011335</td>\n",
       "      <td>-0.066486</td>\n",
       "      <td>-0.041348</td>\n",
       "      <td>-0.006634</td>\n",
       "      <td>-0.039249</td>\n",
       "      <td>0.134580</td>\n",
       "      <td>-0.166030</td>\n",
       "      <td>-0.106212</td>\n",
       "      <td>-0.212964</td>\n",
       "      <td>-0.577670</td>\n",
       "      <td>-0.256767</td>\n",
       "      <td>1.000000</td>\n",
       "      <td>-0.122381</td>\n",
       "      <td>0.035299</td>\n",
       "      <td>0.005010</td>\n",
       "      <td>-0.042236</td>\n",
       "      <td>-0.040816</td>\n",
       "      <td>-0.072031</td>\n",
       "      <td>0.093583</td>\n",
       "    </tr>\n",
       "    <tr>\n",
       "      <th>ChestPainType_TA</th>\n",
       "      <td>0.032042</td>\n",
       "      <td>-0.004031</td>\n",
       "      <td>0.049855</td>\n",
       "      <td>0.017365</td>\n",
       "      <td>0.026885</td>\n",
       "      <td>0.100025</td>\n",
       "      <td>-0.128105</td>\n",
       "      <td>0.032231</td>\n",
       "      <td>-0.054790</td>\n",
       "      <td>-0.249003</td>\n",
       "      <td>-0.110679</td>\n",
       "      <td>-0.122381</td>\n",
       "      <td>1.000000</td>\n",
       "      <td>0.081407</td>\n",
       "      <td>-0.057719</td>\n",
       "      <td>-0.011611</td>\n",
       "      <td>0.016651</td>\n",
       "      <td>-0.010486</td>\n",
       "      <td>0.002087</td>\n",
       "    </tr>\n",
       "    <tr>\n",
       "      <th>RestingECG_LVH</th>\n",
       "      <td>0.145727</td>\n",
       "      <td>-0.049518</td>\n",
       "      <td>0.053166</td>\n",
       "      <td>0.177077</td>\n",
       "      <td>-0.011656</td>\n",
       "      <td>0.125793</td>\n",
       "      <td>-0.016382</td>\n",
       "      <td>0.086794</td>\n",
       "      <td>0.010670</td>\n",
       "      <td>0.002289</td>\n",
       "      <td>-0.085791</td>\n",
       "      <td>0.035299</td>\n",
       "      <td>0.081407</td>\n",
       "      <td>1.000000</td>\n",
       "      <td>-0.623227</td>\n",
       "      <td>-0.248892</td>\n",
       "      <td>0.043755</td>\n",
       "      <td>0.015091</td>\n",
       "      <td>-0.037582</td>\n",
       "    </tr>\n",
       "    <tr>\n",
       "      <th>RestingECG_Normal</th>\n",
       "      <td>-0.230566</td>\n",
       "      <td>-0.010634</td>\n",
       "      <td>-0.116851</td>\n",
       "      <td>-0.038470</td>\n",
       "      <td>-0.093028</td>\n",
       "      <td>0.023801</td>\n",
       "      <td>-0.072924</td>\n",
       "      <td>-0.116719</td>\n",
       "      <td>-0.091580</td>\n",
       "      <td>-0.063606</td>\n",
       "      <td>0.107941</td>\n",
       "      <td>0.005010</td>\n",
       "      <td>-0.057719</td>\n",
       "      <td>-0.623227</td>\n",
       "      <td>1.000000</td>\n",
       "      <td>-0.602314</td>\n",
       "      <td>-0.060564</td>\n",
       "      <td>-0.047172</td>\n",
       "      <td>0.078563</td>\n",
       "    </tr>\n",
       "    <tr>\n",
       "      <th>RestingECG_ST</th>\n",
       "      <td>0.136798</td>\n",
       "      <td>0.063715</td>\n",
       "      <td>0.090447</td>\n",
       "      <td>-0.133106</td>\n",
       "      <td>0.127110</td>\n",
       "      <td>-0.157879</td>\n",
       "      <td>0.107036</td>\n",
       "      <td>0.055958</td>\n",
       "      <td>0.102527</td>\n",
       "      <td>0.076438</td>\n",
       "      <td>-0.046111</td>\n",
       "      <td>-0.042236</td>\n",
       "      <td>-0.011611</td>\n",
       "      <td>-0.248892</td>\n",
       "      <td>-0.602314</td>\n",
       "      <td>1.000000</td>\n",
       "      <td>0.030345</td>\n",
       "      <td>0.043017</td>\n",
       "      <td>-0.058936</td>\n",
       "    </tr>\n",
       "    <tr>\n",
       "      <th>ST_Slope_Down</th>\n",
       "      <td>0.138397</td>\n",
       "      <td>0.066036</td>\n",
       "      <td>-0.007912</td>\n",
       "      <td>-0.083371</td>\n",
       "      <td>0.105102</td>\n",
       "      <td>-0.073316</td>\n",
       "      <td>0.136439</td>\n",
       "      <td>0.322130</td>\n",
       "      <td>0.122527</td>\n",
       "      <td>0.103407</td>\n",
       "      <td>-0.097754</td>\n",
       "      <td>-0.040816</td>\n",
       "      <td>0.016651</td>\n",
       "      <td>0.043755</td>\n",
       "      <td>-0.060564</td>\n",
       "      <td>0.030345</td>\n",
       "      <td>1.000000</td>\n",
       "      <td>-0.272040</td>\n",
       "      <td>-0.235904</td>\n",
       "    </tr>\n",
       "    <tr>\n",
       "      <th>ST_Slope_Flat</th>\n",
       "      <td>0.185568</td>\n",
       "      <td>0.116077</td>\n",
       "      <td>0.099207</td>\n",
       "      <td>-0.050953</td>\n",
       "      <td>0.107006</td>\n",
       "      <td>-0.342581</td>\n",
       "      <td>0.382237</td>\n",
       "      <td>0.283295</td>\n",
       "      <td>0.554134</td>\n",
       "      <td>0.303645</td>\n",
       "      <td>-0.304667</td>\n",
       "      <td>-0.072031</td>\n",
       "      <td>-0.010486</td>\n",
       "      <td>0.015091</td>\n",
       "      <td>-0.047172</td>\n",
       "      <td>0.043017</td>\n",
       "      <td>-0.272040</td>\n",
       "      <td>1.000000</td>\n",
       "      <td>-0.870951</td>\n",
       "    </tr>\n",
       "    <tr>\n",
       "      <th>ST_Slope_Up</th>\n",
       "      <td>-0.258067</td>\n",
       "      <td>-0.150942</td>\n",
       "      <td>-0.096146</td>\n",
       "      <td>0.094027</td>\n",
       "      <td>-0.161730</td>\n",
       "      <td>0.383397</td>\n",
       "      <td>-0.455676</td>\n",
       "      <td>-0.450577</td>\n",
       "      <td>-0.622164</td>\n",
       "      <td>-0.359443</td>\n",
       "      <td>0.357588</td>\n",
       "      <td>0.093583</td>\n",
       "      <td>0.002087</td>\n",
       "      <td>-0.037582</td>\n",
       "      <td>0.078563</td>\n",
       "      <td>-0.058936</td>\n",
       "      <td>-0.235904</td>\n",
       "      <td>-0.870951</td>\n",
       "      <td>1.000000</td>\n",
       "    </tr>\n",
       "  </tbody>\n",
       "</table>\n",
       "</div>"
      ],
      "text/plain": [
       "                        Age       Sex  RestingBP  Cholesterol  FastingBS  \\\n",
       "Age                1.000000  0.055750   0.254399    -0.095282   0.198039   \n",
       "Sex                0.055750  1.000000   0.005133    -0.200092   0.120076   \n",
       "RestingBP          0.254399  0.005133   1.000000     0.100893   0.070193   \n",
       "Cholesterol       -0.095282 -0.200092   0.100893     1.000000  -0.260974   \n",
       "FastingBS          0.198039  0.120076   0.070193    -0.260974   1.000000   \n",
       "MaxHR             -0.382045 -0.189186  -0.112135     0.235792  -0.131438   \n",
       "ExerciseAngina     0.215793  0.190664   0.155101    -0.034166   0.060451   \n",
       "Oldpeak            0.258612  0.105734   0.164803     0.050148   0.052698   \n",
       "HeartDisease       0.282039  0.305445   0.107589    -0.232741   0.267291   \n",
       "ChestPainType_ASY  0.166607  0.183876   0.048824    -0.120531   0.131176   \n",
       "ChestPainType_ATA -0.218165 -0.161522  -0.046153     0.150954  -0.140514   \n",
       "ChestPainType_NAP -0.011335 -0.066486  -0.041348    -0.006634  -0.039249   \n",
       "ChestPainType_TA   0.032042 -0.004031   0.049855     0.017365   0.026885   \n",
       "RestingECG_LVH     0.145727 -0.049518   0.053166     0.177077  -0.011656   \n",
       "RestingECG_Normal -0.230566 -0.010634  -0.116851    -0.038470  -0.093028   \n",
       "RestingECG_ST      0.136798  0.063715   0.090447    -0.133106   0.127110   \n",
       "ST_Slope_Down      0.138397  0.066036  -0.007912    -0.083371   0.105102   \n",
       "ST_Slope_Flat      0.185568  0.116077   0.099207    -0.050953   0.107006   \n",
       "ST_Slope_Up       -0.258067 -0.150942  -0.096146     0.094027  -0.161730   \n",
       "\n",
       "                      MaxHR  ExerciseAngina   Oldpeak  HeartDisease  \\\n",
       "Age               -0.382045        0.215793  0.258612      0.282039   \n",
       "Sex               -0.189186        0.190664  0.105734      0.305445   \n",
       "RestingBP         -0.112135        0.155101  0.164803      0.107589   \n",
       "Cholesterol        0.235792       -0.034166  0.050148     -0.232741   \n",
       "FastingBS         -0.131438        0.060451  0.052698      0.267291   \n",
       "MaxHR              1.000000       -0.370425 -0.160691     -0.400421   \n",
       "ExerciseAngina    -0.370425        1.000000  0.408752      0.494282   \n",
       "Oldpeak           -0.160691        0.408752  1.000000      0.403951   \n",
       "HeartDisease      -0.400421        0.494282  0.403951      1.000000   \n",
       "ChestPainType_ASY -0.354963        0.430034  0.280026      0.516716   \n",
       "ChestPainType_ATA  0.253735       -0.300365 -0.262124     -0.401924   \n",
       "ChestPainType_NAP  0.134580       -0.166030 -0.106212     -0.212964   \n",
       "ChestPainType_TA   0.100025       -0.128105  0.032231     -0.054790   \n",
       "RestingECG_LVH     0.125793       -0.016382  0.086794      0.010670   \n",
       "RestingECG_Normal  0.023801       -0.072924 -0.116719     -0.091580   \n",
       "RestingECG_ST     -0.157879        0.107036  0.055958      0.102527   \n",
       "ST_Slope_Down     -0.073316        0.136439  0.322130      0.122527   \n",
       "ST_Slope_Flat     -0.342581        0.382237  0.283295      0.554134   \n",
       "ST_Slope_Up        0.383397       -0.455676 -0.450577     -0.622164   \n",
       "\n",
       "                   ChestPainType_ASY  ChestPainType_ATA  ChestPainType_NAP  \\\n",
       "Age                         0.166607          -0.218165          -0.011335   \n",
       "Sex                         0.183876          -0.161522          -0.066486   \n",
       "RestingBP                   0.048824          -0.046153          -0.041348   \n",
       "Cholesterol                -0.120531           0.150954          -0.006634   \n",
       "FastingBS                   0.131176          -0.140514          -0.039249   \n",
       "MaxHR                      -0.354963           0.253735           0.134580   \n",
       "ExerciseAngina              0.430034          -0.300365          -0.166030   \n",
       "Oldpeak                     0.280026          -0.262124          -0.106212   \n",
       "HeartDisease                0.516716          -0.401924          -0.212964   \n",
       "ChestPainType_ASY           1.000000          -0.522432          -0.577670   \n",
       "ChestPainType_ATA          -0.522432           1.000000          -0.256767   \n",
       "ChestPainType_NAP          -0.577670          -0.256767           1.000000   \n",
       "ChestPainType_TA           -0.249003          -0.110679          -0.122381   \n",
       "RestingECG_LVH              0.002289          -0.085791           0.035299   \n",
       "RestingECG_Normal          -0.063606           0.107941           0.005010   \n",
       "RestingECG_ST               0.076438          -0.046111          -0.042236   \n",
       "ST_Slope_Down               0.103407          -0.097754          -0.040816   \n",
       "ST_Slope_Flat               0.303645          -0.304667          -0.072031   \n",
       "ST_Slope_Up                -0.359443           0.357588           0.093583   \n",
       "\n",
       "                   ChestPainType_TA  RestingECG_LVH  RestingECG_Normal  \\\n",
       "Age                        0.032042        0.145727          -0.230566   \n",
       "Sex                       -0.004031       -0.049518          -0.010634   \n",
       "RestingBP                  0.049855        0.053166          -0.116851   \n",
       "Cholesterol                0.017365        0.177077          -0.038470   \n",
       "FastingBS                  0.026885       -0.011656          -0.093028   \n",
       "MaxHR                      0.100025        0.125793           0.023801   \n",
       "ExerciseAngina            -0.128105       -0.016382          -0.072924   \n",
       "Oldpeak                    0.032231        0.086794          -0.116719   \n",
       "HeartDisease              -0.054790        0.010670          -0.091580   \n",
       "ChestPainType_ASY         -0.249003        0.002289          -0.063606   \n",
       "ChestPainType_ATA         -0.110679       -0.085791           0.107941   \n",
       "ChestPainType_NAP         -0.122381        0.035299           0.005010   \n",
       "ChestPainType_TA           1.000000        0.081407          -0.057719   \n",
       "RestingECG_LVH             0.081407        1.000000          -0.623227   \n",
       "RestingECG_Normal         -0.057719       -0.623227           1.000000   \n",
       "RestingECG_ST             -0.011611       -0.248892          -0.602314   \n",
       "ST_Slope_Down              0.016651        0.043755          -0.060564   \n",
       "ST_Slope_Flat             -0.010486        0.015091          -0.047172   \n",
       "ST_Slope_Up                0.002087       -0.037582           0.078563   \n",
       "\n",
       "                   RestingECG_ST  ST_Slope_Down  ST_Slope_Flat  ST_Slope_Up  \n",
       "Age                     0.136798       0.138397       0.185568    -0.258067  \n",
       "Sex                     0.063715       0.066036       0.116077    -0.150942  \n",
       "RestingBP               0.090447      -0.007912       0.099207    -0.096146  \n",
       "Cholesterol            -0.133106      -0.083371      -0.050953     0.094027  \n",
       "FastingBS               0.127110       0.105102       0.107006    -0.161730  \n",
       "MaxHR                  -0.157879      -0.073316      -0.342581     0.383397  \n",
       "ExerciseAngina          0.107036       0.136439       0.382237    -0.455676  \n",
       "Oldpeak                 0.055958       0.322130       0.283295    -0.450577  \n",
       "HeartDisease            0.102527       0.122527       0.554134    -0.622164  \n",
       "ChestPainType_ASY       0.076438       0.103407       0.303645    -0.359443  \n",
       "ChestPainType_ATA      -0.046111      -0.097754      -0.304667     0.357588  \n",
       "ChestPainType_NAP      -0.042236      -0.040816      -0.072031     0.093583  \n",
       "ChestPainType_TA       -0.011611       0.016651      -0.010486     0.002087  \n",
       "RestingECG_LVH         -0.248892       0.043755       0.015091    -0.037582  \n",
       "RestingECG_Normal      -0.602314      -0.060564      -0.047172     0.078563  \n",
       "RestingECG_ST           1.000000       0.030345       0.043017    -0.058936  \n",
       "ST_Slope_Down           0.030345       1.000000      -0.272040    -0.235904  \n",
       "ST_Slope_Flat           0.043017      -0.272040       1.000000    -0.870951  \n",
       "ST_Slope_Up            -0.058936      -0.235904      -0.870951     1.000000  "
      ]
     },
     "execution_count": 9,
     "metadata": {},
     "output_type": "execute_result"
    }
   ],
   "source": [
    "df2.corr()"
   ]
  },
  {
   "cell_type": "markdown",
   "id": "recent-seeker",
   "metadata": {},
   "source": [
    "Variables i_ST_Slope_Up or i_ST_Slope_Flat are highly negatively correlated. Remove one of the variables. "
   ]
  },
  {
   "cell_type": "code",
   "execution_count": 10,
   "id": "chronic-render",
   "metadata": {},
   "outputs": [],
   "source": [
    "del df2['ST_Slope_Flat']"
   ]
  },
  {
   "cell_type": "markdown",
   "id": "extended-divorce",
   "metadata": {},
   "source": [
    "Check number of true heart disease cases"
   ]
  },
  {
   "cell_type": "code",
   "execution_count": 11,
   "id": "average-dividend",
   "metadata": {},
   "outputs": [
    {
     "name": "stdout",
     "output_type": "stream",
     "text": [
      "Number of True cases:  508 (55.34%)\n",
      "Number of False cases: 410 (44.66%)\n"
     ]
    }
   ],
   "source": [
    "num_obs = len(df2)\n",
    "num_true = len(df2.loc[df2['HeartDisease'] == 1])\n",
    "num_false = len(df2.loc[df2['HeartDisease'] == 0])\n",
    "print(\"Number of True cases:  {0} ({1:2.2f}%)\".format(num_true, (num_true/num_obs) * 100))\n",
    "print(\"Number of False cases: {0} ({1:2.2f}%)\".format(num_false, (num_false/num_obs) * 100))"
   ]
  },
  {
   "cell_type": "markdown",
   "id": "greatest-filling",
   "metadata": {},
   "source": [
    "## Modelling"
   ]
  },
  {
   "cell_type": "markdown",
   "id": "acknowledged-proportion",
   "metadata": {},
   "source": [
    "Import libraries for modelling and testing"
   ]
  },
  {
   "cell_type": "code",
   "execution_count": 12,
   "id": "executive-wallet",
   "metadata": {},
   "outputs": [],
   "source": [
    "from sklearn.model_selection import train_test_split, cross_val_score\n",
    "from sklearn.metrics import confusion_matrix, classification_report, roc_curve, roc_auc_score, mean_squared_error, precision_score, accuracy_score\n",
    "from sklearn import metrics"
   ]
  },
  {
   "cell_type": "code",
   "execution_count": 13,
   "id": "personalized-republican",
   "metadata": {},
   "outputs": [],
   "source": [
    "target = df2['HeartDisease']\n",
    "df2 = df2.drop(columns = 'HeartDisease')"
   ]
  },
  {
   "cell_type": "markdown",
   "id": "c330d58d",
   "metadata": {},
   "source": [
    "Scale the data"
   ]
  },
  {
   "cell_type": "code",
   "execution_count": 14,
   "id": "2d2f066a",
   "metadata": {},
   "outputs": [
    {
     "data": {
      "text/html": [
       "<div>\n",
       "<style scoped>\n",
       "    .dataframe tbody tr th:only-of-type {\n",
       "        vertical-align: middle;\n",
       "    }\n",
       "\n",
       "    .dataframe tbody tr th {\n",
       "        vertical-align: top;\n",
       "    }\n",
       "\n",
       "    .dataframe thead th {\n",
       "        text-align: right;\n",
       "    }\n",
       "</style>\n",
       "<table border=\"1\" class=\"dataframe\">\n",
       "  <thead>\n",
       "    <tr style=\"text-align: right;\">\n",
       "      <th></th>\n",
       "      <th>Age</th>\n",
       "      <th>Sex</th>\n",
       "      <th>RestingBP</th>\n",
       "      <th>Cholesterol</th>\n",
       "      <th>FastingBS</th>\n",
       "      <th>MaxHR</th>\n",
       "      <th>ExerciseAngina</th>\n",
       "      <th>Oldpeak</th>\n",
       "      <th>ChestPainType_ASY</th>\n",
       "      <th>ChestPainType_ATA</th>\n",
       "      <th>ChestPainType_NAP</th>\n",
       "      <th>ChestPainType_TA</th>\n",
       "      <th>RestingECG_LVH</th>\n",
       "      <th>RestingECG_Normal</th>\n",
       "      <th>RestingECG_ST</th>\n",
       "      <th>ST_Slope_Down</th>\n",
       "      <th>ST_Slope_Up</th>\n",
       "      <th>HeartDisease</th>\n",
       "    </tr>\n",
       "  </thead>\n",
       "  <tbody>\n",
       "    <tr>\n",
       "      <th>count</th>\n",
       "      <td>9.180000e+02</td>\n",
       "      <td>9.180000e+02</td>\n",
       "      <td>9.180000e+02</td>\n",
       "      <td>9.180000e+02</td>\n",
       "      <td>9.180000e+02</td>\n",
       "      <td>9.180000e+02</td>\n",
       "      <td>9.180000e+02</td>\n",
       "      <td>9.180000e+02</td>\n",
       "      <td>9.180000e+02</td>\n",
       "      <td>9.180000e+02</td>\n",
       "      <td>9.180000e+02</td>\n",
       "      <td>9.180000e+02</td>\n",
       "      <td>9.180000e+02</td>\n",
       "      <td>9.180000e+02</td>\n",
       "      <td>9.180000e+02</td>\n",
       "      <td>9.180000e+02</td>\n",
       "      <td>9.180000e+02</td>\n",
       "      <td>918.000000</td>\n",
       "    </tr>\n",
       "    <tr>\n",
       "      <th>mean</th>\n",
       "      <td>-7.304735e-17</td>\n",
       "      <td>-9.447780e-16</td>\n",
       "      <td>1.084221e-16</td>\n",
       "      <td>-6.482953e-16</td>\n",
       "      <td>-1.009843e-15</td>\n",
       "      <td>4.370747e-16</td>\n",
       "      <td>-7.031412e-16</td>\n",
       "      <td>-2.024524e-16</td>\n",
       "      <td>5.379381e-16</td>\n",
       "      <td>-9.066217e-16</td>\n",
       "      <td>-1.213747e-15</td>\n",
       "      <td>1.690127e-16</td>\n",
       "      <td>3.755045e-15</td>\n",
       "      <td>-2.828771e-16</td>\n",
       "      <td>-7.368833e-16</td>\n",
       "      <td>7.509123e-16</td>\n",
       "      <td>4.690027e-16</td>\n",
       "      <td>0.553377</td>\n",
       "    </tr>\n",
       "    <tr>\n",
       "      <th>std</th>\n",
       "      <td>1.000545e+00</td>\n",
       "      <td>1.000545e+00</td>\n",
       "      <td>1.000545e+00</td>\n",
       "      <td>1.000545e+00</td>\n",
       "      <td>1.000545e+00</td>\n",
       "      <td>1.000545e+00</td>\n",
       "      <td>1.000545e+00</td>\n",
       "      <td>1.000545e+00</td>\n",
       "      <td>1.000545e+00</td>\n",
       "      <td>1.000545e+00</td>\n",
       "      <td>1.000545e+00</td>\n",
       "      <td>1.000545e+00</td>\n",
       "      <td>1.000545e+00</td>\n",
       "      <td>1.000545e+00</td>\n",
       "      <td>1.000545e+00</td>\n",
       "      <td>1.000545e+00</td>\n",
       "      <td>1.000545e+00</td>\n",
       "      <td>0.497414</td>\n",
       "    </tr>\n",
       "    <tr>\n",
       "      <th>min</th>\n",
       "      <td>-2.706015e+00</td>\n",
       "      <td>-1.938163e+00</td>\n",
       "      <td>-7.154995e+00</td>\n",
       "      <td>-1.818435e+00</td>\n",
       "      <td>-5.513413e-01</td>\n",
       "      <td>-3.018469e+00</td>\n",
       "      <td>-8.235563e-01</td>\n",
       "      <td>-3.271482e+00</td>\n",
       "      <td>-1.084138e+00</td>\n",
       "      <td>-4.818867e-01</td>\n",
       "      <td>-5.328378e-01</td>\n",
       "      <td>-2.296787e-01</td>\n",
       "      <td>-5.074783e-01</td>\n",
       "      <td>-1.228087e+00</td>\n",
       "      <td>-4.904493e-01</td>\n",
       "      <td>-2.714484e-01</td>\n",
       "      <td>-8.690559e-01</td>\n",
       "      <td>0.000000</td>\n",
       "    </tr>\n",
       "    <tr>\n",
       "      <th>25%</th>\n",
       "      <td>-6.906294e-01</td>\n",
       "      <td>5.159524e-01</td>\n",
       "      <td>-6.699346e-01</td>\n",
       "      <td>-2.337038e-01</td>\n",
       "      <td>-5.513413e-01</td>\n",
       "      <td>-6.605778e-01</td>\n",
       "      <td>-8.235563e-01</td>\n",
       "      <td>-8.324324e-01</td>\n",
       "      <td>-1.084138e+00</td>\n",
       "      <td>-4.818867e-01</td>\n",
       "      <td>-5.328378e-01</td>\n",
       "      <td>-2.296787e-01</td>\n",
       "      <td>-5.074783e-01</td>\n",
       "      <td>-1.228087e+00</td>\n",
       "      <td>-4.904493e-01</td>\n",
       "      <td>-2.714484e-01</td>\n",
       "      <td>-8.690559e-01</td>\n",
       "      <td>0.000000</td>\n",
       "    </tr>\n",
       "    <tr>\n",
       "      <th>50%</th>\n",
       "      <td>5.188098e-02</td>\n",
       "      <td>5.159524e-01</td>\n",
       "      <td>-1.295128e-01</td>\n",
       "      <td>2.213632e-01</td>\n",
       "      <td>-5.513413e-01</td>\n",
       "      <td>4.678968e-02</td>\n",
       "      <td>-8.235563e-01</td>\n",
       "      <td>-2.695748e-01</td>\n",
       "      <td>9.223917e-01</td>\n",
       "      <td>-4.818867e-01</td>\n",
       "      <td>-5.328378e-01</td>\n",
       "      <td>-2.296787e-01</td>\n",
       "      <td>-5.074783e-01</td>\n",
       "      <td>8.142748e-01</td>\n",
       "      <td>-4.904493e-01</td>\n",
       "      <td>-2.714484e-01</td>\n",
       "      <td>-8.690559e-01</td>\n",
       "      <td>1.000000</td>\n",
       "    </tr>\n",
       "    <tr>\n",
       "      <th>75%</th>\n",
       "      <td>6.883185e-01</td>\n",
       "      <td>5.159524e-01</td>\n",
       "      <td>4.109089e-01</td>\n",
       "      <td>6.238346e-01</td>\n",
       "      <td>-5.513413e-01</td>\n",
       "      <td>7.541571e-01</td>\n",
       "      <td>1.214246e+00</td>\n",
       "      <td>5.747115e-01</td>\n",
       "      <td>9.223917e-01</td>\n",
       "      <td>-4.818867e-01</td>\n",
       "      <td>-5.328378e-01</td>\n",
       "      <td>-2.296787e-01</td>\n",
       "      <td>-5.074783e-01</td>\n",
       "      <td>8.142748e-01</td>\n",
       "      <td>-4.904493e-01</td>\n",
       "      <td>-2.714484e-01</td>\n",
       "      <td>1.150674e+00</td>\n",
       "      <td>1.000000</td>\n",
       "    </tr>\n",
       "    <tr>\n",
       "      <th>max</th>\n",
       "      <td>2.491558e+00</td>\n",
       "      <td>5.159524e-01</td>\n",
       "      <td>3.653439e+00</td>\n",
       "      <td>3.697252e+00</td>\n",
       "      <td>1.813758e+00</td>\n",
       "      <td>2.561874e+00</td>\n",
       "      <td>1.214246e+00</td>\n",
       "      <td>4.983762e+00</td>\n",
       "      <td>9.223917e-01</td>\n",
       "      <td>2.075177e+00</td>\n",
       "      <td>1.876744e+00</td>\n",
       "      <td>4.353909e+00</td>\n",
       "      <td>1.970528e+00</td>\n",
       "      <td>8.142748e-01</td>\n",
       "      <td>2.038947e+00</td>\n",
       "      <td>3.683942e+00</td>\n",
       "      <td>1.150674e+00</td>\n",
       "      <td>1.000000</td>\n",
       "    </tr>\n",
       "  </tbody>\n",
       "</table>\n",
       "</div>"
      ],
      "text/plain": [
       "                Age           Sex     RestingBP   Cholesterol     FastingBS  \\\n",
       "count  9.180000e+02  9.180000e+02  9.180000e+02  9.180000e+02  9.180000e+02   \n",
       "mean  -7.304735e-17 -9.447780e-16  1.084221e-16 -6.482953e-16 -1.009843e-15   \n",
       "std    1.000545e+00  1.000545e+00  1.000545e+00  1.000545e+00  1.000545e+00   \n",
       "min   -2.706015e+00 -1.938163e+00 -7.154995e+00 -1.818435e+00 -5.513413e-01   \n",
       "25%   -6.906294e-01  5.159524e-01 -6.699346e-01 -2.337038e-01 -5.513413e-01   \n",
       "50%    5.188098e-02  5.159524e-01 -1.295128e-01  2.213632e-01 -5.513413e-01   \n",
       "75%    6.883185e-01  5.159524e-01  4.109089e-01  6.238346e-01 -5.513413e-01   \n",
       "max    2.491558e+00  5.159524e-01  3.653439e+00  3.697252e+00  1.813758e+00   \n",
       "\n",
       "              MaxHR  ExerciseAngina       Oldpeak  ChestPainType_ASY  \\\n",
       "count  9.180000e+02    9.180000e+02  9.180000e+02       9.180000e+02   \n",
       "mean   4.370747e-16   -7.031412e-16 -2.024524e-16       5.379381e-16   \n",
       "std    1.000545e+00    1.000545e+00  1.000545e+00       1.000545e+00   \n",
       "min   -3.018469e+00   -8.235563e-01 -3.271482e+00      -1.084138e+00   \n",
       "25%   -6.605778e-01   -8.235563e-01 -8.324324e-01      -1.084138e+00   \n",
       "50%    4.678968e-02   -8.235563e-01 -2.695748e-01       9.223917e-01   \n",
       "75%    7.541571e-01    1.214246e+00  5.747115e-01       9.223917e-01   \n",
       "max    2.561874e+00    1.214246e+00  4.983762e+00       9.223917e-01   \n",
       "\n",
       "       ChestPainType_ATA  ChestPainType_NAP  ChestPainType_TA  RestingECG_LVH  \\\n",
       "count       9.180000e+02       9.180000e+02      9.180000e+02    9.180000e+02   \n",
       "mean       -9.066217e-16      -1.213747e-15      1.690127e-16    3.755045e-15   \n",
       "std         1.000545e+00       1.000545e+00      1.000545e+00    1.000545e+00   \n",
       "min        -4.818867e-01      -5.328378e-01     -2.296787e-01   -5.074783e-01   \n",
       "25%        -4.818867e-01      -5.328378e-01     -2.296787e-01   -5.074783e-01   \n",
       "50%        -4.818867e-01      -5.328378e-01     -2.296787e-01   -5.074783e-01   \n",
       "75%        -4.818867e-01      -5.328378e-01     -2.296787e-01   -5.074783e-01   \n",
       "max         2.075177e+00       1.876744e+00      4.353909e+00    1.970528e+00   \n",
       "\n",
       "       RestingECG_Normal  RestingECG_ST  ST_Slope_Down   ST_Slope_Up  \\\n",
       "count       9.180000e+02   9.180000e+02   9.180000e+02  9.180000e+02   \n",
       "mean       -2.828771e-16  -7.368833e-16   7.509123e-16  4.690027e-16   \n",
       "std         1.000545e+00   1.000545e+00   1.000545e+00  1.000545e+00   \n",
       "min        -1.228087e+00  -4.904493e-01  -2.714484e-01 -8.690559e-01   \n",
       "25%        -1.228087e+00  -4.904493e-01  -2.714484e-01 -8.690559e-01   \n",
       "50%         8.142748e-01  -4.904493e-01  -2.714484e-01 -8.690559e-01   \n",
       "75%         8.142748e-01  -4.904493e-01  -2.714484e-01  1.150674e+00   \n",
       "max         8.142748e-01   2.038947e+00   3.683942e+00  1.150674e+00   \n",
       "\n",
       "       HeartDisease  \n",
       "count    918.000000  \n",
       "mean       0.553377  \n",
       "std        0.497414  \n",
       "min        0.000000  \n",
       "25%        0.000000  \n",
       "50%        1.000000  \n",
       "75%        1.000000  \n",
       "max        1.000000  "
      ]
     },
     "execution_count": 14,
     "metadata": {},
     "output_type": "execute_result"
    }
   ],
   "source": [
    "sc = StandardScaler()\n",
    "# sc = MinMaxScaler()\n",
    "sc.fit(df2)\n",
    "df_transformed = pd.DataFrame(sc.fit_transform(df2))\n",
    "df_transformed.columns = df2.columns\n",
    "df_transformed['HeartDisease'] = target\n",
    "df_transformed.describe()"
   ]
  },
  {
   "cell_type": "markdown",
   "id": "insured-situation",
   "metadata": {},
   "source": [
    "Split the data into training and testing datasets"
   ]
  },
  {
   "cell_type": "code",
   "execution_count": 15,
   "id": "agreed-estate",
   "metadata": {},
   "outputs": [
    {
     "name": "stdout",
     "output_type": "stream",
     "text": [
      "69.93% in training set\n",
      "30.07% in test set\n",
      "Original True  : 508 (55.34%)\n",
      "Original False : 410 (44.66%)\n",
      "\n",
      "Training True  : 353 (54.98%)\n",
      "Training False : 289 (45.02%)\n",
      "\n",
      "Test True      : 155 (56.16%)\n",
      "Test False     : 121 (43.84%)\n"
     ]
    }
   ],
   "source": [
    "feature_col_names = ['Age', 'Sex', 'RestingBP', 'Cholesterol', 'FastingBS', 'MaxHR',\n",
    "                     'ExerciseAngina', 'Oldpeak', 'ChestPainType_ASY', 'ChestPainType_NAP',\n",
    "                     'ChestPainType_ATA', 'ChestPainType_TA', 'RestingECG_Normal',\n",
    "                     'RestingECG_LVH', 'RestingECG_ST', 'ST_Slope_Up', 'ST_Slope_Down']\n",
    "predicted_class_names = ['HeartDisease']\n",
    "\n",
    "X = df_transformed[feature_col_names].values\n",
    "y = df_transformed[predicted_class_names].values \n",
    "\n",
    "X_train, X_test, y_train, y_test = train_test_split(X, y, test_size = 0.3, random_state=1234) \n",
    "\n",
    "print(\"{0:0.2f}% in training set\".format((len(X_train)/len(df_transformed.index)) * 100))\n",
    "print(\"{0:0.2f}% in test set\".format((len(X_test)/len(df_transformed.index)) * 100))\n",
    "\n",
    "print(\"Original True  : {0} ({1:0.2f}%)\".format(len(df_transformed.loc[df_transformed['HeartDisease'] == 1]), \n",
    "                                                (len(df_transformed.loc[df_transformed['HeartDisease'] == 1])/len(df_transformed.index)) * 100.0))\n",
    "print(\"Original False : {0} ({1:0.2f}%)\".format(len(df_transformed.loc[df_transformed['HeartDisease'] == 0]), \n",
    "                                                (len(df_transformed.loc[df_transformed['HeartDisease'] == 0])/len(df_transformed.index)) * 100.0))\n",
    "print(\"\")\n",
    "print(\"Training True  : {0} ({1:0.2f}%)\".format(len(y_train[y_train[:] == 1]), \n",
    "                                                (len(y_train[y_train[:] == 1])/len(y_train) * 100.0)))\n",
    "print(\"Training False : {0} ({1:0.2f}%)\".format(len(y_train[y_train[:] == 0]), \n",
    "                                                (len(y_train[y_train[:] == 0])/len(y_train) * 100.0)))\n",
    "print(\"\")\n",
    "print(\"Test True      : {0} ({1:0.2f}%)\".format(len(y_test[y_test[:] == 1]), \n",
    "                                                (len(y_test[y_test[:] == 1])/len(y_test) * 100.0)))\n",
    "print(\"Test False     : {0} ({1:0.2f}%)\".format(len(y_test[y_test[:] == 0]), \n",
    "                                                (len(y_test[y_test[:] == 0])/len(y_test) * 100.0)))"
   ]
  },
  {
   "cell_type": "markdown",
   "id": "8eabd571",
   "metadata": {},
   "source": [
    "### Linear Regression"
   ]
  },
  {
   "cell_type": "code",
   "execution_count": 16,
   "id": "f9d106f3",
   "metadata": {},
   "outputs": [
    {
     "data": {
      "text/plain": [
       "LinearRegression()"
      ]
     },
     "execution_count": 16,
     "metadata": {},
     "output_type": "execute_result"
    }
   ],
   "source": [
    "from sklearn.linear_model import LinearRegression, Ridge, Lasso\n",
    "from statistics import mean\n",
    "linearModel = LinearRegression()\n",
    "linearModel.fit(X_train, y_train)"
   ]
  },
  {
   "cell_type": "markdown",
   "id": "72bdb834",
   "metadata": {},
   "source": [
    "Performance on Testing Data"
   ]
  },
  {
   "cell_type": "code",
   "execution_count": 17,
   "id": "7a036a18",
   "metadata": {},
   "outputs": [
    {
     "name": "stdout",
     "output_type": "stream",
     "text": [
      "0.6451370438349948\n"
     ]
    }
   ],
   "source": [
    "print(linearModel.score(X_test, y_test))"
   ]
  },
  {
   "cell_type": "markdown",
   "id": "a0ffffbf",
   "metadata": {},
   "source": [
    "##### L1 Lasso Regression"
   ]
  },
  {
   "cell_type": "code",
   "execution_count": 18,
   "id": "6d0b6427",
   "metadata": {},
   "outputs": [
    {
     "name": "stdout",
     "output_type": "stream",
     "text": [
      "0.01 : 60.26722190377867\n",
      "0.02 : 60.3103107551754\n",
      "0.03 : 60.34459488964967\n",
      "0.04 : 60.36537697666995\n",
      "0.05 : 60.364403774098484\n",
      "0.06 : 60.35598601068896\n",
      "0.07 : 60.33970500558442\n",
      "0.08 : 60.314630091437294\n"
     ]
    }
   ],
   "source": [
    "# List to maintain the cross-validation scores\n",
    "cross_val_scores_lasso = []\n",
    " \n",
    "# List to maintain the different values of Lambda\n",
    "Lambda = []\n",
    " \n",
    "# Loop to compute the cross-validation scores\n",
    "for i in range(1, 9):\n",
    "    lassoModel = Lasso(alpha = i * 0.001)\n",
    "    lassoModel.fit(X_train, y_train)\n",
    "    scores = cross_val_score(lassoModel, X_test, y_test, cv = 10)\n",
    "    avg_cross_val_score = mean(scores)*100\n",
    "    cross_val_scores_lasso.append(avg_cross_val_score)\n",
    "    Lambda.append(i * 0.01)\n",
    " \n",
    "# Loop to print the different values of cross-validation scores\n",
    "for i in range(0, len(Lambda)):\n",
    "    print(str(Lambda[i])+' : '+str(cross_val_scores_lasso[i]))"
   ]
  },
  {
   "cell_type": "code",
   "execution_count": 19,
   "id": "5daa6436",
   "metadata": {},
   "outputs": [
    {
     "name": "stdout",
     "output_type": "stream",
     "text": [
      "0.6188029437106501\n"
     ]
    }
   ],
   "source": [
    "# Building and fitting the Lasso Regression Model\n",
    "lassoModelChosen = Lasso(alpha = 0.04)\n",
    "lassoModelChosen.fit(X_train, y_train)\n",
    " \n",
    "# Evaluating the Lasso Regression model\n",
    "print(lassoModelChosen.score(X_test, y_test))"
   ]
  },
  {
   "cell_type": "code",
   "execution_count": 20,
   "id": "2a0b8484",
   "metadata": {},
   "outputs": [
    {
     "name": "stdout",
     "output_type": "stream",
     "text": [
      "[ 0.00426527  0.05310763  0.         -0.0243629   0.04450945 -0.00299139\n",
      "  0.05958792  0.01519643  0.10032137 -0.         -0.          0.\n",
      "  0.         -0.          0.         -0.16800501 -0.        ]\n"
     ]
    }
   ],
   "source": [
    "lasso_coeffs = lassoModelChosen.coef_  \n",
    "print(lasso_coeffs)"
   ]
  },
  {
   "cell_type": "markdown",
   "id": "b315aa93",
   "metadata": {},
   "source": [
    "##### L2 Ridge Regression"
   ]
  },
  {
   "cell_type": "code",
   "execution_count": 21,
   "id": "b551a579",
   "metadata": {},
   "outputs": [
    {
     "name": "stdout",
     "output_type": "stream",
     "text": [
      "42.5 : 60.8924565502764\n",
      "42.75 : 60.89264362760094\n",
      "43.0 : 60.89280285898491\n",
      "43.25 : 60.8929344275845\n",
      "43.5 : 60.893038514916086\n",
      "43.75 : 60.89311530087428\n",
      "44.0 : 60.89316496374969\n",
      "44.25 : 60.89318768024652\n",
      "44.5 : 60.893183625499915\n",
      "44.75 : 60.8931529730931\n",
      "45.0 : 60.89309589507428\n",
      "45.25 : 60.8930125619733\n",
      "45.5 : 60.89290314281822\n",
      "45.75 : 60.89276780515147\n",
      "46.0 : 60.89260671504603\n",
      "46.25 : 60.892420037121184\n",
      "46.5 : 60.89220793455829\n",
      "46.75 : 60.89197056911617\n",
      "47.0 : 60.8917081011464\n",
      "47.25 : 60.89142068960843\n"
     ]
    }
   ],
   "source": [
    "# List to maintain the different cross-validation scores\n",
    "cross_val_scores_ridge = []\n",
    " \n",
    "# List to maintain the different values of alpha\n",
    "alpha = []\n",
    " \n",
    "# Loop to compute the different values of cross-validation scores\n",
    "for i in range(170, 190):\n",
    "    ridgeModel = Ridge(alpha = i * 0.25)\n",
    "    ridgeModel.fit(X_train, y_train)\n",
    "    scores = cross_val_score(ridgeModel, X_test, y_test, cv = 10)\n",
    "    avg_cross_val_score = mean(scores)*100\n",
    "    cross_val_scores_ridge.append(avg_cross_val_score)\n",
    "    alpha.append(i * 0.25)\n",
    " \n",
    "# Loop to print the different values of cross-validation scores\n",
    "for i in range(0, len(alpha)):\n",
    "    print(str(alpha[i])+' : '+str(cross_val_scores_ridge[i]))"
   ]
  },
  {
   "cell_type": "code",
   "execution_count": 22,
   "id": "113424e3",
   "metadata": {},
   "outputs": [
    {
     "name": "stdout",
     "output_type": "stream",
     "text": [
      "0.6453666122025046\n"
     ]
    }
   ],
   "source": [
    "# Building and fitting the Ridge Regression model\n",
    "ridgeModelChosen = Ridge(alpha = 44.25)\n",
    "ridgeModelChosen.fit(X_train, y_train)\n",
    " \n",
    "# Evaluating the Ridge Regression model\n",
    "print(ridgeModelChosen.score(X_test, y_test))"
   ]
  },
  {
   "cell_type": "code",
   "execution_count": 23,
   "id": "9352536e",
   "metadata": {},
   "outputs": [
    {
     "name": "stdout",
     "output_type": "stream",
     "text": [
      "[[ 0.0235576   0.07112984  0.0043791  -0.05187105  0.06360732 -0.01309885\n",
      "   0.06911306  0.04824554  0.06830288 -0.04290235 -0.03867531 -0.00509015\n",
      "   0.00710938  0.000446   -0.00925998 -0.16454651 -0.02701934]]\n"
     ]
    }
   ],
   "source": [
    "ridge_coeffs = ridgeModelChosen.coef_  \n",
    "print(ridge_coeffs)"
   ]
  },
  {
   "cell_type": "markdown",
   "id": "223755f6",
   "metadata": {},
   "source": [
    "#### Comparing and Visualizing Results"
   ]
  },
  {
   "cell_type": "code",
   "execution_count": 24,
   "id": "c3c688f4",
   "metadata": {},
   "outputs": [
    {
     "name": "stdout",
     "output_type": "stream",
     "text": [
      "Linear Regression : 0.6451370438349948\n",
      "Lasso Regression : 0.6188029437106501\n",
      "Ridge Regression : 0.6453666122025046\n"
     ]
    }
   ],
   "source": [
    "# Building the two lists for visualization\n",
    "models = ['Linear Regression', 'Lasso Regression', 'Ridge Regression']\n",
    "scores = [linearModel.score(X_test, y_test),\n",
    "         lassoModelChosen.score(X_test, y_test),\n",
    "         ridgeModelChosen.score(X_test, y_test)]\n",
    " \n",
    "# Building the dictionary to compare the scores\n",
    "mapping = {}\n",
    "mapping['Linear Regression'] = linearModel.score(X_test, y_test)\n",
    "mapping['Lasso Regression'] = lassoModelChosen.score(X_test, y_test)\n",
    "mapping['Ridge Regression'] = ridgeModelChosen.score(X_test, y_test)\n",
    " \n",
    "# Printing the scores for different models\n",
    "for key, val in mapping.items():\n",
    "    print(str(key)+' : '+str(val))"
   ]
  },
  {
   "cell_type": "code",
   "execution_count": 25,
   "id": "b40464c0",
   "metadata": {},
   "outputs": [
    {
     "data": {
      "image/png": "[encoded data removed]",
      "text/plain": [
       "<Figure size 432x288 with 1 Axes>"
      ]
     },
     "metadata": {
      "needs_background": "light"
     },
     "output_type": "display_data"
    }
   ],
   "source": [
    "# Plotting the scores\n",
    "plt.bar(models, scores)\n",
    "plt.xlabel('Regression Models')\n",
    "plt.ylabel('Score')\n",
    "plt.show()"
   ]
  },
  {
   "cell_type": "markdown",
   "id": "431ce31f",
   "metadata": {},
   "source": [
    "Decided not to remove any variables following regularization"
   ]
  },
  {
   "cell_type": "markdown",
   "id": "broad-hopkins",
   "metadata": {},
   "source": [
    "### Naive Bayes "
   ]
  },
  {
   "cell_type": "code",
   "execution_count": 26,
   "id": "independent-rover",
   "metadata": {},
   "outputs": [
    {
     "data": {
      "text/plain": [
       "GaussianNB()"
      ]
     },
     "execution_count": 26,
     "metadata": {},
     "output_type": "execute_result"
    }
   ],
   "source": [
    "from sklearn.naive_bayes import GaussianNB\n",
    "nb_model = GaussianNB()\n",
    "nb_model.fit(X_train, y_train.ravel())"
   ]
  },
  {
   "cell_type": "markdown",
   "id": "departmental-bhutan",
   "metadata": {},
   "source": [
    "Performance on Training Data"
   ]
  },
  {
   "cell_type": "code",
   "execution_count": 27,
   "id": "greek-plate",
   "metadata": {},
   "outputs": [
    {
     "name": "stdout",
     "output_type": "stream",
     "text": [
      "Accuracy: 0.8427\n",
      "\n",
      "Confusion Matrix\n",
      "[[237  52]\n",
      " [ 49 304]]\n",
      "\n",
      "Classification Report\n",
      "              precision    recall  f1-score   support\n",
      "\n",
      "           0       0.83      0.82      0.82       289\n",
      "           1       0.85      0.86      0.86       353\n",
      "\n",
      "    accuracy                           0.84       642\n",
      "   macro avg       0.84      0.84      0.84       642\n",
      "weighted avg       0.84      0.84      0.84       642\n",
      "\n"
     ]
    }
   ],
   "source": [
    "nb_predict_train = nb_model.predict(X_train)\n",
    "print(\"Accuracy: {0:.4f}\".format(accuracy_score(y_train, nb_predict_train)))\n",
    "print(\"\")\n",
    "print(\"Confusion Matrix\")\n",
    "print(\"{0}\".format(confusion_matrix(y_train, nb_predict_train)))\n",
    "print(\"\")\n",
    "print(\"Classification Report\")\n",
    "print(classification_report(y_train, nb_predict_train))"
   ]
  },
  {
   "cell_type": "markdown",
   "id": "otherwise-window",
   "metadata": {},
   "source": [
    "Performance on Testing Data"
   ]
  },
  {
   "cell_type": "code",
   "execution_count": 28,
   "id": "impaired-toddler",
   "metadata": {},
   "outputs": [
    {
     "name": "stdout",
     "output_type": "stream",
     "text": [
      "Accuracy: 0.8587\n",
      "\n",
      "Confusion Matrix\n",
      "[[102  19]\n",
      " [ 20 135]]\n",
      "\n",
      "Classification Report\n",
      "              precision    recall  f1-score   support\n",
      "\n",
      "           0       0.84      0.84      0.84       121\n",
      "           1       0.88      0.87      0.87       155\n",
      "\n",
      "    accuracy                           0.86       276\n",
      "   macro avg       0.86      0.86      0.86       276\n",
      "weighted avg       0.86      0.86      0.86       276\n",
      "\n"
     ]
    }
   ],
   "source": [
    "nb_predict_test = nb_model.predict(X_test)\n",
    "print(\"Accuracy: {0:.4f}\".format(accuracy_score(y_test, nb_predict_test)))\n",
    "print(\"\")\n",
    "print(\"Confusion Matrix\")\n",
    "print(\"{0}\".format(confusion_matrix(y_test, nb_predict_test)))\n",
    "print(\"\")\n",
    "print(\"Classification Report\")\n",
    "print(classification_report(y_test, nb_predict_test))"
   ]
  },
  {
   "cell_type": "markdown",
   "id": "future-florist",
   "metadata": {},
   "source": [
    "### Random Forest"
   ]
  },
  {
   "cell_type": "code",
   "execution_count": 29,
   "id": "quiet-paint",
   "metadata": {},
   "outputs": [
    {
     "data": {
      "text/plain": [
       "RandomForestClassifier(max_features=5, n_estimators=20, random_state=42)"
      ]
     },
     "execution_count": 29,
     "metadata": {},
     "output_type": "execute_result"
    }
   ],
   "source": [
    "from sklearn.ensemble import RandomForestClassifier\n",
    "rf_model = RandomForestClassifier(random_state=42, n_estimators=20, max_features=5)\n",
    "rf_model.fit(X_train, y_train.ravel()) "
   ]
  },
  {
   "cell_type": "markdown",
   "id": "imperial-victoria",
   "metadata": {},
   "source": [
    "Performance on Training Data"
   ]
  },
  {
   "cell_type": "code",
   "execution_count": 30,
   "id": "reserved-midwest",
   "metadata": {},
   "outputs": [
    {
     "name": "stdout",
     "output_type": "stream",
     "text": [
      "Accuracy: 0.9969\n",
      "\n",
      "Confusion Matrix\n",
      "[[288   1]\n",
      " [  1 352]]\n",
      "\n",
      "Classification Report\n",
      "              precision    recall  f1-score   support\n",
      "\n",
      "           0       1.00      1.00      1.00       289\n",
      "           1       1.00      1.00      1.00       353\n",
      "\n",
      "    accuracy                           1.00       642\n",
      "   macro avg       1.00      1.00      1.00       642\n",
      "weighted avg       1.00      1.00      1.00       642\n",
      "\n"
     ]
    }
   ],
   "source": [
    "rf_predict_train = rf_model.predict(X_train)\n",
    "print(\"Accuracy: {0:.4f}\".format(accuracy_score(y_train, rf_predict_train)))\n",
    "print(\"\")\n",
    "print(\"Confusion Matrix\")\n",
    "print(confusion_matrix(y_train, rf_predict_train))\n",
    "print(\"\")\n",
    "print(\"Classification Report\")\n",
    "print(classification_report(y_train, rf_predict_train))"
   ]
  },
  {
   "cell_type": "markdown",
   "id": "arctic-flashing",
   "metadata": {},
   "source": [
    "Performance on Testing Data"
   ]
  },
  {
   "cell_type": "code",
   "execution_count": 31,
   "id": "chief-steering",
   "metadata": {},
   "outputs": [
    {
     "name": "stdout",
     "output_type": "stream",
     "text": [
      "Accuracy: 0.8986\n",
      "\n",
      "Confusion Matrix\n",
      "[[106  15]\n",
      " [ 13 142]]\n",
      "\n",
      "Classification Report\n",
      "              precision    recall  f1-score   support\n",
      "\n",
      "           0       0.89      0.88      0.88       121\n",
      "           1       0.90      0.92      0.91       155\n",
      "\n",
      "    accuracy                           0.90       276\n",
      "   macro avg       0.90      0.90      0.90       276\n",
      "weighted avg       0.90      0.90      0.90       276\n",
      "\n"
     ]
    }
   ],
   "source": [
    "rf_predict_test = rf_model.predict(X_test)\n",
    "print(\"Accuracy: {0:.4f}\".format(accuracy_score(y_test, rf_predict_test)))\n",
    "print(\"\")\n",
    "print(\"Confusion Matrix\")\n",
    "print(confusion_matrix(y_test, rf_predict_test))\n",
    "print(\"\")\n",
    "print(\"Classification Report\")\n",
    "print(classification_report(y_test, rf_predict_test))"
   ]
  },
  {
   "cell_type": "markdown",
   "id": "first-algebra",
   "metadata": {},
   "source": [
    "### Logistic Regression"
   ]
  },
  {
   "cell_type": "code",
   "execution_count": 32,
   "id": "mental-december",
   "metadata": {},
   "outputs": [
    {
     "data": {
      "text/plain": [
       "LogisticRegression(C=0.7, random_state=42, solver='liblinear')"
      ]
     },
     "execution_count": 32,
     "metadata": {},
     "output_type": "execute_result"
    }
   ],
   "source": [
    "from sklearn.linear_model import LogisticRegression\n",
    "lr_model = LogisticRegression(C=0.7, solver='liblinear', random_state=42)\n",
    "lr_model.fit(X_train, y_train.ravel())"
   ]
  },
  {
   "cell_type": "markdown",
   "id": "attempted-leisure",
   "metadata": {},
   "source": [
    "Performance on Training Data"
   ]
  },
  {
   "cell_type": "code",
   "execution_count": 33,
   "id": "developmental-advance",
   "metadata": {},
   "outputs": [
    {
     "name": "stdout",
     "output_type": "stream",
     "text": [
      "Accuracy: 0.8598\n",
      "\n",
      "Confusion Matrix\n",
      "[[238  51]\n",
      " [ 39 314]]\n",
      "\n",
      "Classification Report\n",
      "              precision    recall  f1-score   support\n",
      "\n",
      "           0       0.86      0.82      0.84       289\n",
      "           1       0.86      0.89      0.87       353\n",
      "\n",
      "    accuracy                           0.86       642\n",
      "   macro avg       0.86      0.86      0.86       642\n",
      "weighted avg       0.86      0.86      0.86       642\n",
      "\n"
     ]
    }
   ],
   "source": [
    "lr_predict_train = lr_model.predict(X_train)\n",
    "print(\"Accuracy: {0:.4f}\".format(accuracy_score(y_train, lr_predict_train)))\n",
    "print(\"\")\n",
    "print(\"Confusion Matrix\")\n",
    "print(confusion_matrix(y_train, lr_predict_train))\n",
    "print(\"\")\n",
    "print(\"Classification Report\")\n",
    "print(classification_report(y_train, lr_predict_train))"
   ]
  },
  {
   "cell_type": "markdown",
   "id": "optimum-parks",
   "metadata": {},
   "source": [
    "Performance on Testing Data"
   ]
  },
  {
   "cell_type": "code",
   "execution_count": 34,
   "id": "normal-lawyer",
   "metadata": {},
   "outputs": [
    {
     "name": "stdout",
     "output_type": "stream",
     "text": [
      "Accuracy: 0.8877\n",
      "[[102  19]\n",
      " [ 12 143]]\n",
      "\n",
      "Classification Report\n",
      "              precision    recall  f1-score   support\n",
      "\n",
      "           0       0.89      0.84      0.87       121\n",
      "           1       0.88      0.92      0.90       155\n",
      "\n",
      "    accuracy                           0.89       276\n",
      "   macro avg       0.89      0.88      0.89       276\n",
      "weighted avg       0.89      0.89      0.89       276\n",
      "\n"
     ]
    }
   ],
   "source": [
    "lr_predict_test = lr_model.predict(X_test)\n",
    "print(\"Accuracy: {0:.4f}\".format(accuracy_score(y_test, lr_predict_test)))\n",
    "print(confusion_matrix(y_test, lr_predict_test))\n",
    "print(\"\")\n",
    "print(\"Classification Report\")\n",
    "print(classification_report(y_test, lr_predict_test))"
   ]
  },
  {
   "cell_type": "markdown",
   "id": "unsigned-spirit",
   "metadata": {},
   "source": [
    "Setting Regularization Parameter"
   ]
  },
  {
   "cell_type": "code",
   "execution_count": 35,
   "id": "lesser-equilibrium",
   "metadata": {},
   "outputs": [
    {
     "name": "stdout",
     "output_type": "stream",
     "text": [
      "1st max value of 0.929 occured at C=0.110\n"
     ]
    },
    {
     "data": {
      "text/plain": [
       "Text(0, 0.5, 'recall score')"
      ]
     },
     "execution_count": 35,
     "metadata": {},
     "output_type": "execute_result"
    },
    {
     "data": {
      "image/png": "[encoded data removed]",
      "text/plain": [
       "<Figure size 432x288 with 1 Axes>"
      ]
     },
     "metadata": {
      "needs_background": "light"
     },
     "output_type": "display_data"
    }
   ],
   "source": [
    "C_start = 0.01\n",
    "C_end = 1\n",
    "C_inc = 0.1\n",
    "\n",
    "C_values, recall_scores = [], []\n",
    "\n",
    "C_val = C_start\n",
    "best_recall_score = 0\n",
    "while (C_val < C_end):\n",
    "    C_values.append(C_val)\n",
    "    lr_model_loop = LogisticRegression(C=C_val, solver='liblinear', random_state=42)\n",
    "    lr_model_loop.fit(X_train, y_train.ravel())\n",
    "    lr_predict_loop_test = lr_model_loop.predict(X_test)\n",
    "    recall_score = metrics.recall_score(y_test, lr_predict_loop_test)\n",
    "    recall_scores.append(recall_score)\n",
    "    if (recall_score > best_recall_score):\n",
    "        best_recall_score = recall_score\n",
    "        best_lr_predict_test = lr_predict_loop_test\n",
    "        \n",
    "    C_val = C_val + C_inc\n",
    "\n",
    "best_score_C_val = C_values[recall_scores.index(best_recall_score)]\n",
    "print(\"1st max value of {0:.3f} occured at C={1:.3f}\".format(best_recall_score, best_score_C_val))\n",
    "\n",
    "%matplotlib inline \n",
    "plt.plot(C_values, recall_scores, \"-\")\n",
    "plt.xlabel(\"C value\")\n",
    "plt.ylabel(\"recall score\")"
   ]
  },
  {
   "cell_type": "markdown",
   "id": "other-affiliate",
   "metadata": {},
   "source": [
    "Logisitic regression with class_weight = 'balanced'"
   ]
  },
  {
   "cell_type": "code",
   "execution_count": 36,
   "id": "insured-planning",
   "metadata": {},
   "outputs": [
    {
     "name": "stdout",
     "output_type": "stream",
     "text": [
      "1st max value of 0.916 occured at C=0.310\n"
     ]
    },
    {
     "data": {
      "text/plain": [
       "Text(0, 0.5, 'recall score')"
      ]
     },
     "execution_count": 36,
     "metadata": {},
     "output_type": "execute_result"
    },
    {
     "data": {
      "image/png": "[encoded data removed]",
      "text/plain": [
       "<Figure size 432x288 with 1 Axes>"
      ]
     },
     "metadata": {
      "needs_background": "light"
     },
     "output_type": "display_data"
    }
   ],
   "source": [
    "C_start = 0.01\n",
    "C_end = 1\n",
    "C_inc = 0.1\n",
    "\n",
    "C_values, recall_scores = [], []\n",
    "\n",
    "C_val = C_start\n",
    "best_recall_score = 0\n",
    "while (C_val < C_end):\n",
    "    C_values.append(C_val)\n",
    "    lr_model_loop = LogisticRegression(C=C_val, class_weight=\"balanced\", solver='liblinear', random_state=42)\n",
    "    lr_model_loop.fit(X_train, y_train.ravel())\n",
    "    lr_predict_loop_test = lr_model_loop.predict(X_test)\n",
    "    recall_score = metrics.recall_score(y_test, lr_predict_loop_test)\n",
    "    recall_scores.append(recall_score)\n",
    "    if (recall_score > best_recall_score):\n",
    "        best_recall_score = recall_score\n",
    "        best_lr_predict_test = lr_predict_loop_test\n",
    "        \n",
    "    C_val = C_val + C_inc\n",
    "\n",
    "best_score_C_val = C_values[recall_scores.index(best_recall_score)]\n",
    "print(\"1st max value of {0:.3f} occured at C={1:.3f}\".format(best_recall_score, best_score_C_val))\n",
    "\n",
    "%matplotlib inline \n",
    "plt.plot(C_values, recall_scores, \"-\")\n",
    "plt.xlabel(\"C value\")\n",
    "plt.ylabel(\"recall score\")"
   ]
  },
  {
   "cell_type": "code",
   "execution_count": 37,
   "id": "annoying-landing",
   "metadata": {},
   "outputs": [
    {
     "data": {
      "text/plain": [
       "LogisticRegression(C=0.31000000000000005, class_weight='balanced',\n",
       "                   random_state=42, solver='liblinear')"
      ]
     },
     "execution_count": 37,
     "metadata": {},
     "output_type": "execute_result"
    }
   ],
   "source": [
    "lr_model = LogisticRegression(class_weight=\"balanced\", C=best_score_C_val, solver='liblinear', random_state=42)\n",
    "lr_model.fit(X_train, y_train.ravel())"
   ]
  },
  {
   "cell_type": "markdown",
   "id": "heated-forum",
   "metadata": {},
   "source": [
    "Performance on Training Data"
   ]
  },
  {
   "cell_type": "code",
   "execution_count": 38,
   "id": "congressional-petite",
   "metadata": {},
   "outputs": [
    {
     "name": "stdout",
     "output_type": "stream",
     "text": [
      "Accuracy: 0.8520\n",
      "\n",
      "Confusion Matrix\n",
      "[[242  47]\n",
      " [ 48 305]]\n",
      "\n",
      "Classification Report\n",
      "              precision    recall  f1-score   support\n",
      "\n",
      "           0       0.83      0.84      0.84       289\n",
      "           1       0.87      0.86      0.87       353\n",
      "\n",
      "    accuracy                           0.85       642\n",
      "   macro avg       0.85      0.85      0.85       642\n",
      "weighted avg       0.85      0.85      0.85       642\n",
      "\n",
      "0.8640226628895185\n"
     ]
    }
   ],
   "source": [
    "lr_predict_train2 = lr_model.predict(X_train)\n",
    "print(\"Accuracy: {0:.4f}\".format(accuracy_score(y_train, lr_predict_train2)))\n",
    "print(\"\")\n",
    "print(\"Confusion Matrix\")\n",
    "print(confusion_matrix(y_train, lr_predict_train2))\n",
    "print(\"\")\n",
    "print(\"Classification Report\")\n",
    "print(classification_report(y_train, lr_predict_train2))\n",
    "print(metrics.recall_score(y_train, lr_predict_train2))"
   ]
  },
  {
   "cell_type": "markdown",
   "id": "prostate-approval",
   "metadata": {},
   "source": [
    "Performance on Testing Data"
   ]
  },
  {
   "cell_type": "code",
   "execution_count": 39,
   "id": "royal-prince",
   "metadata": {},
   "outputs": [
    {
     "name": "stdout",
     "output_type": "stream",
     "text": [
      "Accuracy: 0.9022\n",
      "\n",
      "Confusion Matrix\n",
      "[[107  14]\n",
      " [ 13 142]]\n",
      "\n",
      "Classification Report\n",
      "              precision    recall  f1-score   support\n",
      "\n",
      "           0       0.89      0.88      0.89       121\n",
      "           1       0.91      0.92      0.91       155\n",
      "\n",
      "    accuracy                           0.90       276\n",
      "   macro avg       0.90      0.90      0.90       276\n",
      "weighted avg       0.90      0.90      0.90       276\n",
      "\n",
      "0.9161290322580645\n"
     ]
    }
   ],
   "source": [
    "lr_predict_test2 = lr_model.predict(X_test)\n",
    "print(\"Accuracy: {0:.4f}\".format(accuracy_score(y_test, lr_predict_test2)))\n",
    "print(\"\")\n",
    "print(\"Confusion Matrix\")\n",
    "print(confusion_matrix(y_test, lr_predict_test2))\n",
    "print(\"\")\n",
    "print(\"Classification Report\")\n",
    "print(classification_report(y_test, lr_predict_test2))\n",
    "print(metrics.recall_score(y_test, lr_predict_test2))"
   ]
  },
  {
   "cell_type": "markdown",
   "id": "settled-stretch",
   "metadata": {},
   "source": [
    "### Logistic Regression CV"
   ]
  },
  {
   "cell_type": "code",
   "execution_count": 40,
   "id": "current-racing",
   "metadata": {},
   "outputs": [
    {
     "data": {
      "text/plain": [
       "LogisticRegressionCV(Cs=3, class_weight='balanced', cv=10, n_jobs=-1,\n",
       "                     random_state=42, refit=False, solver='liblinear')"
      ]
     },
     "execution_count": 40,
     "metadata": {},
     "output_type": "execute_result"
    }
   ],
   "source": [
    "from sklearn.linear_model import LogisticRegressionCV\n",
    "lr_cv_model = LogisticRegressionCV(n_jobs=-1, solver='liblinear', random_state=42, Cs=3, \n",
    "                                   cv=10, refit=False, class_weight=\"balanced\")\n",
    "lr_cv_model.fit(X_train, y_train.ravel())"
   ]
  },
  {
   "cell_type": "markdown",
   "id": "elect-dancing",
   "metadata": {},
   "source": [
    "Performance on Training Data"
   ]
  },
  {
   "cell_type": "code",
   "execution_count": 41,
   "id": "mechanical-nebraska",
   "metadata": {},
   "outputs": [
    {
     "name": "stdout",
     "output_type": "stream",
     "text": [
      "Accuracy: 0.8520\n",
      "\n",
      "Confusion Matrix\n",
      "[[242  47]\n",
      " [ 48 305]]\n",
      "\n",
      "Classification Report\n",
      "              precision    recall  f1-score   support\n",
      "\n",
      "           0       0.83      0.84      0.84       289\n",
      "           1       0.87      0.86      0.87       353\n",
      "\n",
      "    accuracy                           0.85       642\n",
      "   macro avg       0.85      0.85      0.85       642\n",
      "weighted avg       0.85      0.85      0.85       642\n",
      "\n"
     ]
    }
   ],
   "source": [
    "lr_cv_predict_train = lr_cv_model.predict(X_train)\n",
    "print(\"Accuracy: {0:.4f}\".format(accuracy_score(y_train, lr_cv_predict_train)))\n",
    "print(\"\")\n",
    "print(\"Confusion Matrix\")\n",
    "print(confusion_matrix(y_train, lr_cv_predict_train))\n",
    "print(\"\")\n",
    "print(\"Classification Report\")\n",
    "print(classification_report(y_train, lr_cv_predict_train))"
   ]
  },
  {
   "cell_type": "markdown",
   "id": "demographic-occasion",
   "metadata": {},
   "source": [
    "Performance on Testing Data"
   ]
  },
  {
   "cell_type": "code",
   "execution_count": 42,
   "id": "skilled-reduction",
   "metadata": {},
   "outputs": [
    {
     "name": "stdout",
     "output_type": "stream",
     "text": [
      "Accuracy: 0.8949\n",
      "\n",
      "Confusion Matrix\n",
      "[[107  14]\n",
      " [ 15 140]]\n",
      "\n",
      "Classification Report\n",
      "              precision    recall  f1-score   support\n",
      "\n",
      "           0       0.88      0.88      0.88       121\n",
      "           1       0.91      0.90      0.91       155\n",
      "\n",
      "    accuracy                           0.89       276\n",
      "   macro avg       0.89      0.89      0.89       276\n",
      "weighted avg       0.90      0.89      0.89       276\n",
      "\n"
     ]
    }
   ],
   "source": [
    "lr_cv_predict_test = lr_cv_model.predict(X_test)\n",
    "print(\"Accuracy: {0:.4f}\".format(accuracy_score(y_test, lr_cv_predict_test)))\n",
    "print(\"\")\n",
    "print(\"Confusion Matrix\")\n",
    "print(confusion_matrix(y_test, lr_cv_predict_test))\n",
    "print(\"\")\n",
    "print(\"Classification Report\")\n",
    "print(classification_report(y_test, lr_cv_predict_test))"
   ]
  },
  {
   "cell_type": "markdown",
   "id": "precious-pathology",
   "metadata": {},
   "source": [
    "### XGBoost"
   ]
  },
  {
   "cell_type": "code",
   "execution_count": 43,
   "id": "monthly-entrepreneur",
   "metadata": {},
   "outputs": [],
   "source": [
    "import xgboost as xgb\n",
    "from xgboost import XGBClassifier"
   ]
  },
  {
   "cell_type": "code",
   "execution_count": 44,
   "id": "going-syntax",
   "metadata": {},
   "outputs": [
    {
     "name": "stdout",
     "output_type": "stream",
     "text": [
      "[16:31:52] WARNING: /opt/concourse/worker/volumes/live/7a2b9f41-3287-451b-6691-43e9a6c0910f/volume/xgboost-split_1619728204606/work/src/learner.cc:1061: Starting in XGBoost 1.3.0, the default evaluation metric used with the objective 'binary:logistic' was changed from 'error' to 'logloss'. Explicitly set eval_metric if you'd like to restore the old behavior.\n"
     ]
    }
   ],
   "source": [
    "xgb_classmodel = XGBClassifier(objective = 'binary:logistic',\n",
    "                               max_depth = 5,\n",
    "                               max_delta_step = 0.1,\n",
    "                               gamma = 0.6)\n",
    "xgb_model = xgb_classmodel.fit(X_train, y_train)"
   ]
  },
  {
   "cell_type": "markdown",
   "id": "continued-shelter",
   "metadata": {},
   "source": [
    "Performance on Training Data"
   ]
  },
  {
   "cell_type": "code",
   "execution_count": 45,
   "id": "corporate-interim",
   "metadata": {},
   "outputs": [
    {
     "name": "stdout",
     "output_type": "stream",
     "text": [
      "AUC 0.907971\n",
      "\n",
      "Confusion matrix:\n",
      " [[253  36]\n",
      " [ 21 332]]\n",
      "\n",
      "Classification Report\n",
      "              precision    recall  f1-score   support\n",
      "\n",
      "           0       0.92      0.88      0.90       289\n",
      "           1       0.90      0.94      0.92       353\n",
      "\n",
      "    accuracy                           0.91       642\n",
      "   macro avg       0.91      0.91      0.91       642\n",
      "weighted avg       0.91      0.91      0.91       642\n",
      "\n"
     ]
    }
   ],
   "source": [
    "predictions_train = xgb_model.predict(X_train)\n",
    "logit_auc_roc_train = roc_auc_score(y_train, predictions_train)\n",
    "cm_train = confusion_matrix(y_train, predictions_train)\n",
    "print('AUC %.6f' % logit_auc_roc_train)\n",
    "print(\"\")\n",
    "print('Confusion matrix:\\n {}\\n'.format(cm_train))\n",
    "print(\"Classification Report\")\n",
    "print(classification_report(y_train, predictions_train))"
   ]
  },
  {
   "cell_type": "markdown",
   "id": "acute-adult",
   "metadata": {},
   "source": [
    "Performance on Testing Data"
   ]
  },
  {
   "cell_type": "code",
   "execution_count": 46,
   "id": "breathing-answer",
   "metadata": {},
   "outputs": [
    {
     "name": "stdout",
     "output_type": "stream",
     "text": [
      "AUC 0.897494\n",
      "\n",
      "Confusion matrix:\n",
      " [[104  17]\n",
      " [ 10 145]]\n",
      "\n",
      "Classification Report\n",
      "              precision    recall  f1-score   support\n",
      "\n",
      "           0       0.91      0.86      0.89       121\n",
      "           1       0.90      0.94      0.91       155\n",
      "\n",
      "    accuracy                           0.90       276\n",
      "   macro avg       0.90      0.90      0.90       276\n",
      "weighted avg       0.90      0.90      0.90       276\n",
      "\n"
     ]
    }
   ],
   "source": [
    "predictions = xgb_model.predict(X_test)\n",
    "logit_auc_roc = roc_auc_score(y_test, predictions)\n",
    "cm = confusion_matrix(y_test, predictions)\n",
    "print('AUC %.6f' % logit_auc_roc)\n",
    "print(\"\")\n",
    "print('Confusion matrix:\\n {}\\n'.format(cm))\n",
    "print(\"Classification Report\")\n",
    "print(classification_report(y_test, predictions))"
   ]
  },
  {
   "cell_type": "markdown",
   "id": "comprehensive-hours",
   "metadata": {},
   "source": [
    "### LightGBM"
   ]
  },
  {
   "cell_type": "code",
   "execution_count": 47,
   "id": "annoying-latest",
   "metadata": {},
   "outputs": [],
   "source": [
    "import lightgbm as lgb\n",
    "from sklearn.ensemble import GradientBoostingClassifier"
   ]
  },
  {
   "cell_type": "code",
   "execution_count": 48,
   "id": "supreme-belief",
   "metadata": {},
   "outputs": [
    {
     "name": "stdout",
     "output_type": "stream",
     "text": [
      "[LightGBM] [Info] Number of positive: 353, number of negative: 289\n",
      "[LightGBM] [Warning] Auto-choosing row-wise multi-threading, the overhead of testing was 0.001703 seconds.\n",
      "You can set `force_row_wise=true` to remove the overhead.\n",
      "And if memory is not enough, you can set `force_col_wise=true`.\n",
      "[LightGBM] [Info] Total Bins 375\n",
      "[LightGBM] [Info] Number of data points in the train set: 642, number of used features: 17\n",
      "[LightGBM] [Info] [binary:BoostFromScore]: pavg=0.549844 -> initscore=0.200041\n",
      "[LightGBM] [Info] Start training from score 0.200041\n",
      "[LightGBM] [Warning] No further splits with positive gain, best gain: -inf\n",
      "[LightGBM] [Warning] No further splits with positive gain, best gain: -inf\n",
      "[LightGBM] [Warning] No further splits with positive gain, best gain: -inf\n",
      "[LightGBM] [Warning] No further splits with positive gain, best gain: -inf\n",
      "[LightGBM] [Warning] No further splits with positive gain, best gain: -inf\n",
      "[LightGBM] [Warning] No further splits with positive gain, best gain: -inf\n",
      "[LightGBM] [Warning] No further splits with positive gain, best gain: -inf\n",
      "[LightGBM] [Warning] No further splits with positive gain, best gain: -inf\n",
      "[LightGBM] [Warning] No further splits with positive gain, best gain: -inf\n",
      "[LightGBM] [Warning] No further splits with positive gain, best gain: -inf\n",
      "[LightGBM] [Warning] No further splits with positive gain, best gain: -inf\n",
      "[LightGBM] [Warning] No further splits with positive gain, best gain: -inf\n",
      "[LightGBM] [Warning] No further splits with positive gain, best gain: -inf\n",
      "[LightGBM] [Warning] No further splits with positive gain, best gain: -inf\n",
      "[LightGBM] [Warning] No further splits with positive gain, best gain: -inf\n",
      "[LightGBM] [Warning] No further splits with positive gain, best gain: -inf\n",
      "[LightGBM] [Warning] No further splits with positive gain, best gain: -inf\n",
      "[LightGBM] [Warning] No further splits with positive gain, best gain: -inf\n",
      "[LightGBM] [Warning] No further splits with positive gain, best gain: -inf\n",
      "[LightGBM] [Warning] No further splits with positive gain, best gain: -inf\n",
      "[LightGBM] [Warning] No further splits with positive gain, best gain: -inf\n",
      "[LightGBM] [Warning] No further splits with positive gain, best gain: -inf\n",
      "[LightGBM] [Warning] No further splits with positive gain, best gain: -inf\n",
      "[LightGBM] [Warning] No further splits with positive gain, best gain: -inf\n",
      "[LightGBM] [Warning] No further splits with positive gain, best gain: -inf\n",
      "[LightGBM] [Warning] No further splits with positive gain, best gain: -inf\n",
      "[LightGBM] [Warning] No further splits with positive gain, best gain: -inf\n",
      "[LightGBM] [Warning] No further splits with positive gain, best gain: -inf\n",
      "[LightGBM] [Warning] No further splits with positive gain, best gain: -inf\n",
      "[LightGBM] [Warning] No further splits with positive gain, best gain: -inf\n",
      "[LightGBM] [Warning] No further splits with positive gain, best gain: -inf\n",
      "[LightGBM] [Warning] No further splits with positive gain, best gain: -inf\n",
      "[LightGBM] [Warning] No further splits with positive gain, best gain: -inf\n",
      "[LightGBM] [Warning] No further splits with positive gain, best gain: -inf\n",
      "[LightGBM] [Warning] No further splits with positive gain, best gain: -inf\n",
      "[LightGBM] [Warning] No further splits with positive gain, best gain: -inf\n",
      "[LightGBM] [Warning] No further splits with positive gain, best gain: -inf\n",
      "[LightGBM] [Warning] No further splits with positive gain, best gain: -inf\n",
      "[LightGBM] [Warning] No further splits with positive gain, best gain: -inf\n",
      "[LightGBM] [Warning] No further splits with positive gain, best gain: -inf\n",
      "[LightGBM] [Warning] No further splits with positive gain, best gain: -inf\n",
      "[LightGBM] [Warning] No further splits with positive gain, best gain: -inf\n",
      "[LightGBM] [Warning] No further splits with positive gain, best gain: -inf\n",
      "[LightGBM] [Warning] No further splits with positive gain, best gain: -inf\n",
      "[LightGBM] [Warning] No further splits with positive gain, best gain: -inf\n",
      "[LightGBM] [Warning] No further splits with positive gain, best gain: -inf\n",
      "[LightGBM] [Warning] No further splits with positive gain, best gain: -inf\n",
      "[LightGBM] [Warning] No further splits with positive gain, best gain: -inf\n",
      "[LightGBM] [Warning] No further splits with positive gain, best gain: -inf\n",
      "[LightGBM] [Warning] No further splits with positive gain, best gain: -inf\n",
      "[LightGBM] [Warning] No further splits with positive gain, best gain: -inf\n",
      "[LightGBM] [Warning] No further splits with positive gain, best gain: -inf\n",
      "[LightGBM] [Warning] No further splits with positive gain, best gain: -inf\n",
      "[LightGBM] [Warning] No further splits with positive gain, best gain: -inf\n",
      "[LightGBM] [Warning] No further splits with positive gain, best gain: -inf\n",
      "[LightGBM] [Warning] No further splits with positive gain, best gain: -inf\n",
      "[LightGBM] [Warning] No further splits with positive gain, best gain: -inf\n",
      "[LightGBM] [Warning] No further splits with positive gain, best gain: -inf\n",
      "[LightGBM] [Warning] No further splits with positive gain, best gain: -inf\n",
      "[LightGBM] [Warning] No further splits with positive gain, best gain: -inf\n",
      "[LightGBM] [Warning] No further splits with positive gain, best gain: -inf\n",
      "[LightGBM] [Warning] No further splits with positive gain, best gain: -inf\n",
      "[LightGBM] [Warning] No further splits with positive gain, best gain: -inf\n",
      "[LightGBM] [Warning] No further splits with positive gain, best gain: -inf\n",
      "[LightGBM] [Warning] No further splits with positive gain, best gain: -inf\n",
      "[LightGBM] [Warning] No further splits with positive gain, best gain: -inf\n",
      "[LightGBM] [Warning] No further splits with positive gain, best gain: -inf\n",
      "[LightGBM] [Warning] No further splits with positive gain, best gain: -inf\n",
      "[LightGBM] [Warning] No further splits with positive gain, best gain: -inf\n",
      "[LightGBM] [Warning] No further splits with positive gain, best gain: -inf\n",
      "[LightGBM] [Warning] No further splits with positive gain, best gain: -inf\n",
      "[LightGBM] [Warning] No further splits with positive gain, best gain: -inf\n",
      "[LightGBM] [Warning] No further splits with positive gain, best gain: -inf\n",
      "[LightGBM] [Warning] No further splits with positive gain, best gain: -inf\n",
      "[LightGBM] [Warning] No further splits with positive gain, best gain: -inf\n",
      "[LightGBM] [Warning] No further splits with positive gain, best gain: -inf\n",
      "[LightGBM] [Warning] No further splits with positive gain, best gain: -inf\n",
      "[LightGBM] [Warning] No further splits with positive gain, best gain: -inf\n",
      "[LightGBM] [Warning] No further splits with positive gain, best gain: -inf\n",
      "[LightGBM] [Warning] No further splits with positive gain, best gain: -inf\n",
      "[LightGBM] [Warning] No further splits with positive gain, best gain: -inf\n",
      "[LightGBM] [Warning] No further splits with positive gain, best gain: -inf\n",
      "[LightGBM] [Warning] No further splits with positive gain, best gain: -inf\n",
      "[LightGBM] [Warning] No further splits with positive gain, best gain: -inf\n",
      "[LightGBM] [Warning] No further splits with positive gain, best gain: -inf\n",
      "[LightGBM] [Warning] No further splits with positive gain, best gain: -inf\n",
      "[LightGBM] [Warning] No further splits with positive gain, best gain: -inf\n",
      "[LightGBM] [Warning] No further splits with positive gain, best gain: -inf\n",
      "[LightGBM] [Warning] No further splits with positive gain, best gain: -inf\n",
      "[LightGBM] [Warning] No further splits with positive gain, best gain: -inf\n",
      "[LightGBM] [Warning] No further splits with positive gain, best gain: -inf\n",
      "[LightGBM] [Warning] No further splits with positive gain, best gain: -inf\n",
      "[LightGBM] [Warning] No further splits with positive gain, best gain: -inf\n",
      "[LightGBM] [Warning] No further splits with positive gain, best gain: -inf\n",
      "[LightGBM] [Warning] No further splits with positive gain, best gain: -inf\n",
      "[LightGBM] [Warning] No further splits with positive gain, best gain: -inf\n",
      "[LightGBM] [Warning] No further splits with positive gain, best gain: -inf\n",
      "[LightGBM] [Warning] No further splits with positive gain, best gain: -inf\n",
      "[LightGBM] [Warning] No further splits with positive gain, best gain: -inf\n",
      "[LightGBM] [Warning] No further splits with positive gain, best gain: -inf\n",
      "[LightGBM] [Warning] No further splits with positive gain, best gain: -inf\n",
      "[LightGBM] [Warning] No further splits with positive gain, best gain: -inf\n",
      "[LightGBM] [Warning] No further splits with positive gain, best gain: -inf\n",
      "[LightGBM] [Warning] No further splits with positive gain, best gain: -inf\n",
      "[LightGBM] [Warning] No further splits with positive gain, best gain: -inf\n",
      "[LightGBM] [Warning] No further splits with positive gain, best gain: -inf\n",
      "[LightGBM] [Warning] No further splits with positive gain, best gain: -inf\n",
      "[LightGBM] [Warning] No further splits with positive gain, best gain: -inf\n",
      "[LightGBM] [Warning] No further splits with positive gain, best gain: -inf\n",
      "[LightGBM] [Warning] No further splits with positive gain, best gain: -inf\n"
     ]
    },
    {
     "name": "stdout",
     "output_type": "stream",
     "text": [
      "[LightGBM] [Warning] No further splits with positive gain, best gain: -inf\n",
      "[LightGBM] [Warning] No further splits with positive gain, best gain: -inf\n",
      "[LightGBM] [Warning] No further splits with positive gain, best gain: -inf\n",
      "[LightGBM] [Warning] No further splits with positive gain, best gain: -inf\n",
      "[LightGBM] [Warning] No further splits with positive gain, best gain: -inf\n",
      "[LightGBM] [Warning] No further splits with positive gain, best gain: -inf\n",
      "[LightGBM] [Warning] No further splits with positive gain, best gain: -inf\n",
      "[LightGBM] [Warning] No further splits with positive gain, best gain: -inf\n",
      "[LightGBM] [Warning] No further splits with positive gain, best gain: -inf\n",
      "[LightGBM] [Warning] No further splits with positive gain, best gain: -inf\n",
      "[LightGBM] [Warning] No further splits with positive gain, best gain: -inf\n",
      "[LightGBM] [Warning] No further splits with positive gain, best gain: -inf\n",
      "[LightGBM] [Warning] No further splits with positive gain, best gain: -inf\n",
      "[LightGBM] [Warning] No further splits with positive gain, best gain: -inf\n",
      "[LightGBM] [Warning] No further splits with positive gain, best gain: -inf\n",
      "[LightGBM] [Warning] No further splits with positive gain, best gain: -inf\n",
      "[LightGBM] [Warning] No further splits with positive gain, best gain: -inf\n",
      "[LightGBM] [Warning] No further splits with positive gain, best gain: -inf\n",
      "[LightGBM] [Warning] No further splits with positive gain, best gain: -inf\n",
      "[LightGBM] [Warning] No further splits with positive gain, best gain: -inf\n",
      "[LightGBM] [Warning] No further splits with positive gain, best gain: -inf\n",
      "[LightGBM] [Warning] No further splits with positive gain, best gain: -inf\n",
      "[LightGBM] [Warning] No further splits with positive gain, best gain: -inf\n",
      "[LightGBM] [Warning] No further splits with positive gain, best gain: -inf\n",
      "[LightGBM] [Warning] No further splits with positive gain, best gain: -inf\n",
      "[LightGBM] [Warning] No further splits with positive gain, best gain: -inf\n",
      "[LightGBM] [Warning] No further splits with positive gain, best gain: -inf\n",
      "[LightGBM] [Warning] No further splits with positive gain, best gain: -inf\n",
      "[LightGBM] [Warning] No further splits with positive gain, best gain: -inf\n",
      "[LightGBM] [Warning] No further splits with positive gain, best gain: -inf\n",
      "[LightGBM] [Warning] No further splits with positive gain, best gain: -inf\n",
      "[LightGBM] [Warning] No further splits with positive gain, best gain: -inf\n",
      "[LightGBM] [Warning] No further splits with positive gain, best gain: -inf\n",
      "[LightGBM] [Warning] No further splits with positive gain, best gain: -inf\n",
      "[LightGBM] [Warning] No further splits with positive gain, best gain: -inf\n",
      "[LightGBM] [Warning] No further splits with positive gain, best gain: -inf\n",
      "[LightGBM] [Warning] No further splits with positive gain, best gain: -inf\n",
      "[LightGBM] [Warning] No further splits with positive gain, best gain: -inf\n",
      "[LightGBM] [Warning] No further splits with positive gain, best gain: -inf\n",
      "[LightGBM] [Warning] No further splits with positive gain, best gain: -inf\n",
      "[LightGBM] [Warning] No further splits with positive gain, best gain: -inf\n",
      "[LightGBM] [Warning] No further splits with positive gain, best gain: -inf\n",
      "[LightGBM] [Warning] No further splits with positive gain, best gain: -inf\n",
      "[LightGBM] [Warning] No further splits with positive gain, best gain: -inf\n",
      "[LightGBM] [Warning] No further splits with positive gain, best gain: -inf\n",
      "[LightGBM] [Warning] No further splits with positive gain, best gain: -inf\n",
      "[LightGBM] [Warning] No further splits with positive gain, best gain: -inf\n",
      "[LightGBM] [Warning] No further splits with positive gain, best gain: -inf\n",
      "[LightGBM] [Warning] No further splits with positive gain, best gain: -inf\n",
      "[LightGBM] [Warning] No further splits with positive gain, best gain: -inf\n",
      "[LightGBM] [Warning] No further splits with positive gain, best gain: -inf\n",
      "[LightGBM] [Warning] No further splits with positive gain, best gain: -inf\n",
      "[LightGBM] [Warning] No further splits with positive gain, best gain: -inf\n",
      "[LightGBM] [Warning] No further splits with positive gain, best gain: -inf\n",
      "[LightGBM] [Warning] No further splits with positive gain, best gain: -inf\n",
      "[LightGBM] [Warning] No further splits with positive gain, best gain: -inf\n",
      "[LightGBM] [Warning] No further splits with positive gain, best gain: -inf\n",
      "[LightGBM] [Warning] No further splits with positive gain, best gain: -inf\n",
      "[LightGBM] [Warning] No further splits with positive gain, best gain: -inf\n",
      "[LightGBM] [Warning] No further splits with positive gain, best gain: -inf\n",
      "[LightGBM] [Warning] No further splits with positive gain, best gain: -inf\n",
      "[LightGBM] [Warning] No further splits with positive gain, best gain: -inf\n",
      "[LightGBM] [Warning] No further splits with positive gain, best gain: -inf\n",
      "[LightGBM] [Warning] No further splits with positive gain, best gain: -inf\n",
      "[LightGBM] [Warning] No further splits with positive gain, best gain: -inf\n",
      "[LightGBM] [Warning] No further splits with positive gain, best gain: -inf\n",
      "[LightGBM] [Warning] No further splits with positive gain, best gain: -inf\n",
      "[LightGBM] [Warning] No further splits with positive gain, best gain: -inf\n",
      "[LightGBM] [Warning] No further splits with positive gain, best gain: -inf\n",
      "[LightGBM] [Warning] No further splits with positive gain, best gain: -inf\n",
      "[LightGBM] [Warning] No further splits with positive gain, best gain: -inf\n",
      "[LightGBM] [Warning] No further splits with positive gain, best gain: -inf\n",
      "[LightGBM] [Warning] No further splits with positive gain, best gain: -inf\n",
      "[LightGBM] [Warning] No further splits with positive gain, best gain: -inf\n",
      "[LightGBM] [Warning] No further splits with positive gain, best gain: -inf\n",
      "[LightGBM] [Warning] No further splits with positive gain, best gain: -inf\n",
      "[LightGBM] [Warning] No further splits with positive gain, best gain: -inf\n",
      "[LightGBM] [Warning] No further splits with positive gain, best gain: -inf\n",
      "[LightGBM] [Warning] No further splits with positive gain, best gain: -inf\n",
      "[LightGBM] [Warning] No further splits with positive gain, best gain: -inf\n",
      "[LightGBM] [Warning] No further splits with positive gain, best gain: -inf\n",
      "[LightGBM] [Warning] No further splits with positive gain, best gain: -inf\n",
      "[LightGBM] [Warning] No further splits with positive gain, best gain: -inf\n",
      "[LightGBM] [Warning] No further splits with positive gain, best gain: -inf\n",
      "[LightGBM] [Warning] No further splits with positive gain, best gain: -inf\n",
      "[LightGBM] [Warning] No further splits with positive gain, best gain: -inf\n",
      "[LightGBM] [Warning] No further splits with positive gain, best gain: -inf\n",
      "[LightGBM] [Warning] No further splits with positive gain, best gain: -inf\n",
      "[LightGBM] [Warning] No further splits with positive gain, best gain: -inf\n",
      "[LightGBM] [Warning] No further splits with positive gain, best gain: -inf\n"
     ]
    }
   ],
   "source": [
    "# converting the dataset into proper LGB format \n",
    "d_train = lgb.Dataset(X_train, label = y_train)\n",
    "\n",
    "# Specifying the parameter\n",
    "params = {}\n",
    "params['learning_rate'] = 0.01\n",
    "params['boosting_type'] = 'gbdt'\n",
    "params['objective'] = 'binary'\n",
    "params['metric'] = 'binary_logloss'\n",
    "\n",
    "# train the model \n",
    "clf = lgb.train(params, d_train, 200) "
   ]
  },
  {
   "cell_type": "markdown",
   "id": "explicit-cyprus",
   "metadata": {},
   "source": [
    "Performance on Training Data"
   ]
  },
  {
   "cell_type": "code",
   "execution_count": 49,
   "id": "differential-medicaid",
   "metadata": {},
   "outputs": [
    {
     "name": "stdout",
     "output_type": "stream",
     "text": [
      "AUC 0.904189\n",
      "\n",
      "Confusion matrix:\n",
      " [[252  37]\n",
      " [ 25 328]]\n",
      "\n",
      "Classification Report\n",
      "              precision    recall  f1-score   support\n",
      "\n",
      "           0       0.91      0.87      0.89       289\n",
      "           1       0.90      0.93      0.91       353\n",
      "\n",
      "    accuracy                           0.90       642\n",
      "   macro avg       0.90      0.90      0.90       642\n",
      "weighted avg       0.90      0.90      0.90       642\n",
      "\n"
     ]
    }
   ],
   "source": [
    "# prediction on the train set\n",
    "y_pred_train = clf.predict(X_train)\n",
    "\n",
    "# rounding the values\n",
    "y_pred_train = y_pred_train.round(0)\n",
    "\n",
    "# converting from float to integer\n",
    "y_pred_train = y_pred_train.astype(int)\n",
    "\n",
    "# roc_auc_score metric\n",
    "lgbm_auc_roc_train = roc_auc_score(y_pred_train, y_train)\n",
    "lgbm_cm_train = confusion_matrix(y_train, y_pred_train)\n",
    "print('AUC %.6f' % lgbm_auc_roc_train)\n",
    "print(\"\")\n",
    "print('Confusion matrix:\\n {}\\n'.format(lgbm_cm_train))\n",
    "print(\"Classification Report\")\n",
    "print(classification_report(y_train, y_pred_train))"
   ]
  },
  {
   "cell_type": "markdown",
   "id": "generous-ministry",
   "metadata": {},
   "source": [
    "Performance on Testing Data"
   ]
  },
  {
   "cell_type": "code",
   "execution_count": 50,
   "id": "metric-month",
   "metadata": {},
   "outputs": [
    {
     "name": "stdout",
     "output_type": "stream",
     "text": [
      "AUC 0.908030\n",
      "\n",
      "Confusion matrix:\n",
      " [[104  17]\n",
      " [  9 146]]\n",
      "\n",
      "Classification Report\n",
      "              precision    recall  f1-score   support\n",
      "\n",
      "           0       0.92      0.86      0.89       121\n",
      "           1       0.90      0.94      0.92       155\n",
      "\n",
      "    accuracy                           0.91       276\n",
      "   macro avg       0.91      0.90      0.90       276\n",
      "weighted avg       0.91      0.91      0.91       276\n",
      "\n"
     ]
    }
   ],
   "source": [
    "# prediction on the test set\n",
    "y_pred = clf.predict(X_test)\n",
    "\n",
    "# rounding the values\n",
    "y_pred = y_pred.round(0)\n",
    "\n",
    "# converting from float to integer\n",
    "y_pred = y_pred.astype(int)\n",
    "\n",
    "# roc_auc_score metric\n",
    "lgbm_auc_roc = roc_auc_score(y_pred, y_test)\n",
    "lgbm_cm = confusion_matrix(y_test, y_pred)\n",
    "print('AUC %.6f' % lgbm_auc_roc)\n",
    "print(\"\")\n",
    "print('Confusion matrix:\\n {}\\n'.format(lgbm_cm))\n",
    "print(\"Classification Report\")\n",
    "print(classification_report(y_test, y_pred))"
   ]
  }
 ],
 "metadata": {
  "kernelspec": {
   "display_name": "Python 3",
   "language": "python",
   "name": "python3"
  },
  "language_info": {
   "codemirror_mode": {
    "name": "ipython",
    "version": 3
   },
   "file_extension": ".py",
   "mimetype": "text/x-python",
   "name": "python",
   "nbconvert_exporter": "python",
   "pygments_lexer": "ipython3",
   "version": "3.8.3"
  },
  "vscode": {
   "interpreter": {
    "hash": "6a393d1be5e9ed949977787eafd4a8a1cf5216d4ba278b1c17ef259dd9e2365d"
   }
  }
 },
 "nbformat": 4,
 "nbformat_minor": 5
}
